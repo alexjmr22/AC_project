{
 "cells": [
  {
   "cell_type": "markdown",
   "id": "6d511be2-79eb-42ce-a0f9-2ac6481fbbf0",
   "metadata": {},
   "source": [
    "1. Consider the cork stoppers.xls data set containing measurements performed automatically by an image processing system on 150 cork stoppers belonging to three classes ($\\omega_1$ - Super, $\\omega_2$ - Average and $\\omega_3$ - Poor).<p>"
   ]
  },
  {
   "cell_type": "code",
   "execution_count": 34,
   "id": "3a4e4e41-0085-4392-94aa-96506d77f72d",
   "metadata": {},
   "outputs": [
    {
     "name": "stdout",
     "output_type": "stream",
     "text": [
      "ixSuper= (array([ 0,  1,  2,  3,  4,  5,  6,  7,  8,  9, 10, 11, 12, 13, 14, 15, 16,\n",
      "       17, 18, 19, 20, 21, 22, 23, 24, 25, 26, 27, 28, 29, 30, 31, 32, 33,\n",
      "       34, 35, 36, 37, 38, 39, 40, 41, 42, 43, 44, 45, 46, 47, 48, 49],\n",
      "      dtype=int64),)\n",
      "ixAverage= (array([50, 51, 52, 53, 54, 55, 56, 57, 58, 59, 60, 61, 62, 63, 64, 65, 66,\n",
      "       67, 68, 69, 70, 71, 72, 73, 74, 75, 76, 77, 78, 79, 80, 81, 82, 83,\n",
      "       84, 85, 86, 87, 88, 89, 90, 91, 92, 93, 94, 95, 96, 97, 98, 99],\n",
      "      dtype=int64),)\n"
     ]
    }
   ],
   "source": [
    "import plotly.graph_objects as go\n",
    "import numpy as np\n",
    "import pandas as pd\n",
    "xlsFile=pd.read_excel(\"CORK_STOPPERS.XLS\",\n",
    "                      sheet_name=\"Data\",\n",
    "                      usecols=[\"C\",\"ART\",\"N.1\",\"PRT\",\"ARM\",\"PRM\",\"ARTG\",\"NG\",\"PRTG\",\"RAAR\",\"RAN\"])\n",
    "CorkStopp=pd.DataFrame(data=xlsFile.dropna())\n",
    "\n",
    "fnames=CorkStopp.columns[1:]\n",
    "\n",
    "ixSuper=np.where(CorkStopp['C']==1)\n",
    "\n",
    "print(\"ixSuper=\",ixSuper)\n",
    "ixAverage=np.where(CorkStopp['C']==2)\n",
    "print(\"ixAverage=\",ixAverage)\n",
    "ixPoor=np.where(CorkStopp['C']==3)"
   ]
  },
  {
   "cell_type": "markdown",
   "id": "3cd39aea-7807-44ce-b685-2e6e5c137c97",
   "metadata": {},
   "source": [
    "In your exercise consider only the classes $\\omega_1$ and $\\omega_2$ and a two-dimensional input space defined by N and PRT/10.<p>\n",
    "-Find the Euclidean Linear Discriminants $g1(x) and g2(x)?<p>"
   ]
  },
  {
   "cell_type": "code",
   "execution_count": 21,
   "id": "605914e0-9958-413b-a918-a3f70df103da",
   "metadata": {},
   "outputs": [
    {
     "name": "stdout",
     "output_type": "stream",
     "text": [
      "[41. 42. 26. 63. 45. 55. 57. 66. 64. 38. 40. 54. 55. 54. 59. 74. 63. 70.\n",
      " 56. 38. 45. 61. 91. 61. 66. 50. 63. 51. 24. 64. 64. 53. 43. 79. 44. 79.\n",
      " 58. 68. 18. 64. 59. 40. 40. 43. 89. 23. 47. 76. 52. 89.]\n",
      "gSup(x)=[[55.28  36.504]]x-0.5[[4388.420416]]\n",
      "gAvg(x)=[[79.74  64.284]]x-0.5[[10490.900256]]\n"
     ]
    }
   ],
   "source": [
    "\n",
    "NSup=CorkStopp['N.1'].to_numpy()[ixSuper]\n",
    "print(NSup)\n",
    "NAvg=CorkStopp['N.1'].to_numpy()[ixAverage]\n",
    "\n",
    "PRT10Sup=(CorkStopp['PRT'].to_numpy()/10)[ixSuper]\n",
    "PRT10Avg=(CorkStopp['PRT'].to_numpy()/10)[ixAverage]\n",
    "\n",
    "\n",
    "muSup=np.array([[np.mean(NSup),np.mean(PRT10Sup)]]).T\n",
    "muAvg=np.array([[np.mean(NAvg),np.mean(PRT10Avg)]]).T\n",
    "\n",
    "print(\"gSup(x)=\"+str(muSup.T)+\"x-0.5\"+str(muSup.T@muSup))\n",
    "print(\"gAvg(x)=\"+str(muAvg.T)+\"x-0.5\"+str(muAvg.T@muAvg))\n"
   ]
  },
  {
   "cell_type": "markdown",
   "id": "a9fdb2cf-0c3f-4a4d-a2ef-2ef753bfc875",
   "metadata": {},
   "source": [
    "-Find the equation of the Euclidian MDC decision function, i.e., d(x)=g1(x)-g2(x)?"
   ]
  },
  {
   "cell_type": "code",
   "execution_count": 22,
   "id": "661f0b21-8764-4b8f-bab5-dfa8abeae5ae",
   "metadata": {},
   "outputs": [
    {
     "name": "stdout",
     "output_type": "stream",
     "text": [
      "d(x)=[[-24.46 -27.78]]x-0.5[[-6102.47984]]\n"
     ]
    }
   ],
   "source": [
    "print(\"d(x)=\"+str((muSup-muAvg).T)+\"x-0.5\"+str((muSup-muAvg).T@(muSup+muAvg)))"
   ]
  },
  {
   "cell_type": "markdown",
   "id": "e3952553-a4c9-4e07-9a65-2c0d663f9b18",
   "metadata": {},
   "source": [
    "-Compute performance measures?"
   ]
  },
  {
   "cell_type": "code",
   "execution_count": 23,
   "id": "41d60c46-ca51-4182-bec8-7528decae738",
   "metadata": {},
   "outputs": [
    {
     "name": "stdout",
     "output_type": "stream",
     "text": [
      "y= [1. 1. 1. 1. 1. 1. 1. 1. 1. 1. 1. 1. 1. 1. 1. 1. 1. 1. 1. 1. 1. 1. 1. 1.\n",
      " 1. 1. 1. 1. 1. 1. 1. 1. 1. 1. 1. 1. 1. 1. 1. 1. 1. 1. 1. 1. 1. 1. 1. 1.\n",
      " 1. 1. 2. 2. 2. 2. 2. 2. 2. 2. 2. 2. 2. 2. 2. 2. 2. 2. 2. 2. 2. 2. 2. 2.\n",
      " 2. 2. 2. 2. 2. 2. 2. 2. 2. 2. 2. 2. 2. 2. 2. 2. 2. 2. 2. 2. 2. 2. 2. 2.\n",
      " 2. 2. 2. 2.]\n",
      "Sensitivity(%)=84.0\n",
      "Specificity(%)=78.0\n",
      "Precision(%)=79.24528301886792\n",
      "F1Score(%)=81.55339805825243\n",
      "Accuracy(%)=81.0\n"
     ]
    }
   ],
   "source": [
    "\n",
    "X1=np.array([NSup,PRT10Sup]).T\n",
    "X2=np.array([NAvg,PRT10Avg]).T\n",
    "X=np.concatenate((X1,X2),axis=0)\n",
    "y=np.concatenate((CorkStopp['C'].to_numpy()[ixSuper],CorkStopp['C'].to_numpy()[ixAverage]))\n",
    "print(\"y=\",y)\n",
    "yp=np.ones(np.shape(y))\n",
    "\n",
    "dx=((muSup-muAvg).T@(X.T-0.5*(muSup+muAvg))).flatten()\n",
    "yp[dx<0]=2\n",
    "\n",
    "Hits=np.shape(np.where((y==yp))[0])[0]\n",
    "TP=np.shape(np.where((y[ixSuper]==yp[ixSuper]))[0])[0]\n",
    "TN=np.shape(np.where((y[ixAverage]==yp[ixAverage]))[0])[0]\n",
    "FP=np.shape(np.where((y[ixAverage]!=yp[ixAverage]))[0])[0]\n",
    "FN=np.shape(np.where((y[ixSuper]!=yp[ixSuper]))[0])[0]\n",
    "\n",
    "SS=TP/(TP+FN)\n",
    "SP=TN/(TN+FP)\n",
    "PR=TP/(TP+FP)\n",
    "F1Score=2*(PR*SS)/(PR+SS)\n",
    "AC=(TN+TP)/(TP+TN+FP+FN)\n",
    "\n",
    "\n",
    "print(\"Sensitivity(%)=\"+str(SS*100))\n",
    "print(\"Specificity(%)=\"+str(SP*100))\n",
    "print(\"Precision(%)=\"+str(PR*100))\n",
    "print(\"F1Score(%)=\"+str(F1Score*100))\n",
    "print(\"Accuracy(%)=\"+str(AC*100))\n",
    "\n"
   ]
  },
  {
   "cell_type": "markdown",
   "id": "5495fc04-1c68-4e0e-8881-d0cac871e63a",
   "metadata": {},
   "source": [
    "-Represent geometrically the samples, class means, and decision hyperplane?"
   ]
  },
  {
   "cell_type": "code",
   "execution_count": 24,
   "id": "bedbdac4-4bd9-41a8-b11b-58973b6931b8",
   "metadata": {},
   "outputs": [
    {
     "data": {
      "application/vnd.plotly.v1+json": {
       "config": {
        "plotlyServerURL": "https://plot.ly"
       },
       "data": [
        {
         "marker": {
          "size": 10
         },
         "mode": "markers",
         "name": "Super",
         "type": "scatter",
         "x": {
          "bdata": "AAAAAACAREAAAAAAAABFQAAAAAAAADpAAAAAAACAT0AAAAAAAIBGQAAAAAAAgEtAAAAAAACATEAAAAAAAIBQQAAAAAAAAFBAAAAAAAAAQ0AAAAAAAABEQAAAAAAAAEtAAAAAAACAS0AAAAAAAABLQAAAAAAAgE1AAAAAAACAUkAAAAAAAIBPQAAAAAAAgFFAAAAAAAAATEAAAAAAAABDQAAAAAAAgEZAAAAAAACATkAAAAAAAMBWQAAAAAAAgE5AAAAAAACAUEAAAAAAAABJQAAAAAAAgE9AAAAAAACASUAAAAAAAAA4QAAAAAAAAFBAAAAAAAAAUEAAAAAAAIBKQAAAAAAAgEVAAAAAAADAU0AAAAAAAABGQAAAAAAAwFNAAAAAAAAATUAAAAAAAABRQAAAAAAAADJAAAAAAAAAUEAAAAAAAIBNQAAAAAAAAERAAAAAAAAAREAAAAAAAIBFQAAAAAAAQFZAAAAAAAAAN0AAAAAAAIBHQAAAAAAAAFNAAAAAAAAASkAAAAAAAEBWQA==",
          "dtype": "f8"
         },
         "y": {
          "bdata": "AAAAAAAAOUDNzMzMzMw3QJqZmZmZmTNAZmZmZmZmQkAAAAAAAIBBQJqZmZmZmT9AAAAAAAAARECamZmZmRlEQDMzMzMzM0VAZmZmZmZmOUAAAAAAAIBBQM3MzMzMzD9AZmZmZmZmQUCamZmZmRlCQGZmZmZmZkVAmpmZmZmZRkBmZmZmZmZHQDMzMzMzM0hAzczMzMxMQkDNzMzMzMw3QGZmZmZmZkBAZmZmZmbmREDNzMzMzMxMQM3MzMzMTEFAmpmZmZkZR0AzMzMzMzM9QAAAAAAAgEVAAAAAAACAQUAAAAAAAAAxQAAAAAAAgERAAAAAAACARECamZmZmRlBQAAAAAAAADtAmpmZmZkZTkCamZmZmZlAQM3MzMzMzEpAmpmZmZmZQ0CamZmZmZlDQM3MzMzMzCRAMzMzMzOzRUAAAAAAAIBDQJqZmZmZmThAzczMzMzMNkAzMzMzMzNCQJqZmZmZGU5AMzMzMzMzLUDNzMzMzMw+QJqZmZmZmUhAZmZmZmZmQUAAAAAAAABKQA==",
          "dtype": "f8"
         }
        },
        {
         "marker": {
          "size": 10
         },
         "mode": "markers",
         "name": "Average",
         "type": "scatter",
         "x": {
          "bdata": "AAAAAAAAU0AAAAAAAEBTQAAAAAAAQFRAAAAAAACAUkAAAAAAAIBRQAAAAAAAgFFAAAAAAAAAU0AAAAAAAABKQAAAAAAAAEVAAAAAAABAVEAAAAAAAABMQAAAAAAAgFlAAAAAAACAVUAAAAAAAABWQAAAAAAAQFtAAAAAAACATEAAAAAAAIBOQAAAAAAAgE5AAAAAAACATkAAAAAAAEBZQAAAAAAAAFhAAAAAAAAAUEAAAAAAAIBXQAAAAAAAgElAAAAAAACATkAAAAAAAABRQAAAAAAAAFVAAAAAAADAX0AAAAAAAEBXQAAAAAAAgFdAAAAAAACAVkAAAAAAAIBQQAAAAAAAgFBAAAAAAABAVUAAAAAAAIBZQAAAAAAAgFdAAAAAAADAVEAAAAAAAEBWQAAAAAAAwFNAAAAAAACAUEAAAAAAAMBUQAAAAAAAgFZAAAAAAABAWEAAAAAAAABUQAAAAAAAAFNAAAAAAAAAXUAAAAAAAIBVQAAAAAAAAFBAAAAAAABAVkAAAAAAAEBSQA==",
          "dtype": "f8"
         },
         "y": {
          "bdata": "zczMzMzMTUDNzMzMzMxMQDMzMzMzM09AAAAAAAAATUCamZmZmRlIQM3MzMzMzExAzczMzMzMTkAzMzMzM7NBQDMzMzMzMztAMzMzMzOzT0DNzMzMzExGQGZmZmZmZlFAMzMzMzMzTUCamZmZmVlRQGZmZmZmplRAZmZmZmZmR0AzMzMzM7NOQJqZmZmZmUpAAAAAAACARUBmZmZmZuZTQAAAAAAAQFVAzczMzMxMSkAzMzMzM/NTQJqZmZmZGUFAZmZmZmbmSkDNzMzMzExNQAAAAAAAwFFAmpmZmZlZWEAAAAAAAIBRQAAAAAAAQFJAAAAAAAAAUUBmZmZmZuZLQGZmZmZm5k1AMzMzMzOzUkDNzMzMzExSQGZmZmZmJlZAAAAAAABAUkAzMzMzM3NQQM3MzMzMzEtAzczMzMzMSkAAAAAAAIBSQGZmZmZmZlRAZmZmZmbmUkDNzMzMzIxSQGZmZmZm5lBAzczMzMzMV0AzMzMzMzNTQGZmZmZmZkdAMzMzMzOzUECamZmZmRlSQA==",
          "dtype": "f8"
         }
        },
        {
         "marker": {
          "color": "red",
          "line": {
           "color": "red",
           "width": 3
          },
          "size": 15,
          "symbol": "circle-open"
         },
         "mode": "markers",
         "name": "False Average",
         "type": "scatter",
         "x": {
          "bdata": "AAAAAACAUkAAAAAAAIBRQAAAAAAAwFZAAAAAAADAU0AAAAAAAMBTQAAAAAAAQFZAAAAAAAAAU0AAAAAAAEBWQA==",
          "dtype": "f8"
         },
         "y": {
          "bdata": "mpmZmZmZRkAzMzMzMzNIQM3MzMzMzExAmpmZmZkZTkDNzMzMzMxKQJqZmZmZGU5AmpmZmZmZSEAAAAAAAABKQA==",
          "dtype": "f8"
         }
        },
        {
         "marker": {
          "color": "blue",
          "line": {
           "color": "blue",
           "width": 3
          },
          "size": 15,
          "symbol": "circle-open"
         },
         "mode": "markers",
         "name": "False Super",
         "type": "scatter",
         "x": {
          "bdata": "AAAAAACAUUAAAAAAAABKQAAAAAAAAEVAAAAAAAAATEAAAAAAAIBMQAAAAAAAgE5AAAAAAACATkAAAAAAAABQQAAAAAAAgElAAAAAAACATkAAAAAAAABQQA==",
          "dtype": "f8"
         },
         "y": {
          "bdata": "mpmZmZkZSEAzMzMzM7NBQDMzMzMzMztAzczMzMxMRkBmZmZmZmZHQJqZmZmZmUpAAAAAAACARUDNzMzMzExKQJqZmZmZGUFAZmZmZmbmSkBmZmZmZmZHQA==",
          "dtype": "f8"
         }
        },
        {
         "marker": {
          "color": "green",
          "line": {
           "color": "black",
           "width": 1
          },
          "size": 20,
          "symbol": "x"
         },
         "mode": "markers",
         "name": "Super mean",
         "type": "scatter",
         "x": {
          "bdata": "pHA9CtejS0A=",
          "dtype": "f8"
         },
         "y": {
          "bdata": "jZduEoNAQkA=",
          "dtype": "f8"
         }
        },
        {
         "marker": {
          "color": "yellow",
          "line": {
           "color": "black",
           "width": 1
          },
          "size": 20,
          "symbol": "x"
         },
         "mode": "markers",
         "name": "Average mean",
         "type": "scatter",
         "x": {
          "bdata": "j8L1KFzvU0A=",
          "dtype": "f8"
         },
         "y": {
          "bdata": "GQRWDi0SUEA=",
          "dtype": "f8"
         }
        },
        {
         "marker": {
          "color": "purple",
          "line": {
           "color": "black",
           "width": 1
          },
          "size": 20,
          "symbol": "circle-dot"
         },
         "mode": "markers",
         "name": "Mean of the means",
         "type": "scatter",
         "x": {
          "bdata": "cD0K16PgUEA=",
          "dtype": "f8"
         },
         "y": {
          "bdata": "4E+Nl24ySUA=",
          "dtype": "f8"
         }
        },
        {
         "line": {
          "color": "black",
          "width": 4
         },
         "mode": "lines",
         "name": "Inter mean segment",
         "type": "scatter",
         "x": [
          55.28,
          79.74
         ],
         "y": [
          36.504,
          64.284
         ]
        },
        {
         "line": {
          "color": "gray",
          "dash": "dash",
          "width": 4
         },
         "mode": "lines",
         "name": "Hyperplane",
         "type": "scatter",
         "x": {
          "bdata": "FAAAABUAAAAWAAAAFwAAABgAAAAZAAAAGgAAABsAAAAcAAAAHQAAAB4AAAAfAAAAIAAAACEAAAAiAAAAIwAAACQAAAAlAAAAJgAAACcAAAAoAAAAKQAAACoAAAArAAAALAAAAC0AAAAuAAAALwAAADAAAAAxAAAAMgAAADMAAAA0AAAANQAAADYAAAA3AAAAOAAAADkAAAA6AAAAOwAAADwAAAA9AAAAPgAAAD8AAABAAAAAQQAAAEIAAABDAAAARAAAAEUAAABGAAAARwAAAEgAAABJAAAASgAAAEsAAABMAAAATQAAAE4AAABPAAAAUAAAAFEAAABSAAAAUwAAAFQAAABVAAAAVgAAAFcAAABYAAAAWQAAAFoAAABbAAAAXAAAAF0AAABeAAAAXwAAAGAAAABhAAAAYgAAAGMAAABkAAAAZQAAAGYAAABnAAAAaAAAAGkAAABqAAAAawAAAGwAAABtAAAAbgAAAG8AAABwAAAAcQAAAHIAAABzAAAAdAAAAHUAAAB2AAAAdwAAAHgAAAB5AAAAegAAAHsAAAB8AAAAfQAAAH4AAAB/AAAAgAAAAIEAAAA=",
          "dtype": "i4"
         },
         "y": {
          "bdata": "xN5QwHcOV0Bczm3PHdZWQPW9it7DnVZAjq2n7WllVkAnncT8Dy1WQMCM4Qu29FVAWHz+Gly8VUDxaxsqAoRVQIpbODmoS1VAI0tVSE4TVUC8OnJX9NpUQFQqj2aaolRA7RmsdUBqVECGCcmE5jFUQB/55ZOM+VNAuOgCozLBU0BQ2B+y2IhTQOrHPMF+UFNAgrdZ0CQYU0Abp3bfyt9SQLSWk+5wp1JATIaw/RZvUkDmdc0MvTZSQH5l6htj/lFAF1UHKwnGUUCwRCQ6r41RQEg0QUlVVVFA4iNeWPscUUB6E3tnoeRQQBMDmHZHrFBArPK0he1zUEBF4tGUkztQQN7R7qM5A1BA7YIXZr+VT0AfYlGECyVPQFBBi6JXtE5AgiDFwKNDTkC0//7e79JNQOXeOP07Yk1AF75yG4jxTEBInaw51IBMQHp85lcgEExArFsgdmyfS0DdOlqUuC5LQA8alLIEvkpAQfnN0FBNSkBy2AfvnNxJQKS3QQ3pa0lA1pZ7KzX7SEAHdrVJgYpIQDlV72fNGUhAajQphhmpR0CcE2OkZThHQM7ynMKxx0ZAANLW4P1WRkAysRD/SeZFQGKQSh2WdUVAlG+EO+IERUDGTr5ZLpREQPgt+Hd6I0RAKg0ylsayQ0Ba7Gu0EkJDQIzLpdJe0UJAvqrf8KpgQkDwiRkP9+9BQCJpUy1Df0FAVEiNS48OQUCEJ8dp251AQLYGAYgnLUBA0Mt1TOd4P0A0iumIf5c+QJhIXcUXtj1A+AbRAbDUPEBcxUQ+SPM7QMCDuHrgETtAJEIst3gwOkCIAKDzEE85QOy+EzCpbThATH2HbEGMN0CwO/uo2ao2QBT6buVxyTVAeLjiIQroNEDcdlZeogY0QDw1ypo6JTNAoPM919JDMkAEsrETa2IxQGhwJVADgTBAmF0yGTc/L0Bg2hmSZ3wtQCBXAQuYuStA6NPog8j2KUCwUND8+DMoQHjNt3UpcSZAQEqf7lmuJEAIx4ZniusiQMhDbuC6KCFAIIGrstbLHkCwenqkN0YbQEB0SZaYwBdA0G0YiPk6FEBQZ+d5WrUQQMDBbNd2XwpA4LQKuzhUA0AAUFE99ZH4P4BsGgny9uQ/ABy3oRnYzL+A/fpsf7Hxv0AXv6X7x/+/gJhB7zvvBsBgpaMLevoNwA==",
          "dtype": "f8"
         }
        }
       ],
       "layout": {
        "autosize": false,
        "height": 800,
        "template": {
         "data": {
          "bar": [
           {
            "error_x": {
             "color": "#2a3f5f"
            },
            "error_y": {
             "color": "#2a3f5f"
            },
            "marker": {
             "line": {
              "color": "#E5ECF6",
              "width": 0.5
             },
             "pattern": {
              "fillmode": "overlay",
              "size": 10,
              "solidity": 0.2
             }
            },
            "type": "bar"
           }
          ],
          "barpolar": [
           {
            "marker": {
             "line": {
              "color": "#E5ECF6",
              "width": 0.5
             },
             "pattern": {
              "fillmode": "overlay",
              "size": 10,
              "solidity": 0.2
             }
            },
            "type": "barpolar"
           }
          ],
          "carpet": [
           {
            "aaxis": {
             "endlinecolor": "#2a3f5f",
             "gridcolor": "white",
             "linecolor": "white",
             "minorgridcolor": "white",
             "startlinecolor": "#2a3f5f"
            },
            "baxis": {
             "endlinecolor": "#2a3f5f",
             "gridcolor": "white",
             "linecolor": "white",
             "minorgridcolor": "white",
             "startlinecolor": "#2a3f5f"
            },
            "type": "carpet"
           }
          ],
          "choropleth": [
           {
            "colorbar": {
             "outlinewidth": 0,
             "ticks": ""
            },
            "type": "choropleth"
           }
          ],
          "contour": [
           {
            "colorbar": {
             "outlinewidth": 0,
             "ticks": ""
            },
            "colorscale": [
             [
              0,
              "#0d0887"
             ],
             [
              0.1111111111111111,
              "#46039f"
             ],
             [
              0.2222222222222222,
              "#7201a8"
             ],
             [
              0.3333333333333333,
              "#9c179e"
             ],
             [
              0.4444444444444444,
              "#bd3786"
             ],
             [
              0.5555555555555556,
              "#d8576b"
             ],
             [
              0.6666666666666666,
              "#ed7953"
             ],
             [
              0.7777777777777778,
              "#fb9f3a"
             ],
             [
              0.8888888888888888,
              "#fdca26"
             ],
             [
              1,
              "#f0f921"
             ]
            ],
            "type": "contour"
           }
          ],
          "contourcarpet": [
           {
            "colorbar": {
             "outlinewidth": 0,
             "ticks": ""
            },
            "type": "contourcarpet"
           }
          ],
          "heatmap": [
           {
            "colorbar": {
             "outlinewidth": 0,
             "ticks": ""
            },
            "colorscale": [
             [
              0,
              "#0d0887"
             ],
             [
              0.1111111111111111,
              "#46039f"
             ],
             [
              0.2222222222222222,
              "#7201a8"
             ],
             [
              0.3333333333333333,
              "#9c179e"
             ],
             [
              0.4444444444444444,
              "#bd3786"
             ],
             [
              0.5555555555555556,
              "#d8576b"
             ],
             [
              0.6666666666666666,
              "#ed7953"
             ],
             [
              0.7777777777777778,
              "#fb9f3a"
             ],
             [
              0.8888888888888888,
              "#fdca26"
             ],
             [
              1,
              "#f0f921"
             ]
            ],
            "type": "heatmap"
           }
          ],
          "histogram": [
           {
            "marker": {
             "pattern": {
              "fillmode": "overlay",
              "size": 10,
              "solidity": 0.2
             }
            },
            "type": "histogram"
           }
          ],
          "histogram2d": [
           {
            "colorbar": {
             "outlinewidth": 0,
             "ticks": ""
            },
            "colorscale": [
             [
              0,
              "#0d0887"
             ],
             [
              0.1111111111111111,
              "#46039f"
             ],
             [
              0.2222222222222222,
              "#7201a8"
             ],
             [
              0.3333333333333333,
              "#9c179e"
             ],
             [
              0.4444444444444444,
              "#bd3786"
             ],
             [
              0.5555555555555556,
              "#d8576b"
             ],
             [
              0.6666666666666666,
              "#ed7953"
             ],
             [
              0.7777777777777778,
              "#fb9f3a"
             ],
             [
              0.8888888888888888,
              "#fdca26"
             ],
             [
              1,
              "#f0f921"
             ]
            ],
            "type": "histogram2d"
           }
          ],
          "histogram2dcontour": [
           {
            "colorbar": {
             "outlinewidth": 0,
             "ticks": ""
            },
            "colorscale": [
             [
              0,
              "#0d0887"
             ],
             [
              0.1111111111111111,
              "#46039f"
             ],
             [
              0.2222222222222222,
              "#7201a8"
             ],
             [
              0.3333333333333333,
              "#9c179e"
             ],
             [
              0.4444444444444444,
              "#bd3786"
             ],
             [
              0.5555555555555556,
              "#d8576b"
             ],
             [
              0.6666666666666666,
              "#ed7953"
             ],
             [
              0.7777777777777778,
              "#fb9f3a"
             ],
             [
              0.8888888888888888,
              "#fdca26"
             ],
             [
              1,
              "#f0f921"
             ]
            ],
            "type": "histogram2dcontour"
           }
          ],
          "mesh3d": [
           {
            "colorbar": {
             "outlinewidth": 0,
             "ticks": ""
            },
            "type": "mesh3d"
           }
          ],
          "parcoords": [
           {
            "line": {
             "colorbar": {
              "outlinewidth": 0,
              "ticks": ""
             }
            },
            "type": "parcoords"
           }
          ],
          "pie": [
           {
            "automargin": true,
            "type": "pie"
           }
          ],
          "scatter": [
           {
            "fillpattern": {
             "fillmode": "overlay",
             "size": 10,
             "solidity": 0.2
            },
            "type": "scatter"
           }
          ],
          "scatter3d": [
           {
            "line": {
             "colorbar": {
              "outlinewidth": 0,
              "ticks": ""
             }
            },
            "marker": {
             "colorbar": {
              "outlinewidth": 0,
              "ticks": ""
             }
            },
            "type": "scatter3d"
           }
          ],
          "scattercarpet": [
           {
            "marker": {
             "colorbar": {
              "outlinewidth": 0,
              "ticks": ""
             }
            },
            "type": "scattercarpet"
           }
          ],
          "scattergeo": [
           {
            "marker": {
             "colorbar": {
              "outlinewidth": 0,
              "ticks": ""
             }
            },
            "type": "scattergeo"
           }
          ],
          "scattergl": [
           {
            "marker": {
             "colorbar": {
              "outlinewidth": 0,
              "ticks": ""
             }
            },
            "type": "scattergl"
           }
          ],
          "scattermap": [
           {
            "marker": {
             "colorbar": {
              "outlinewidth": 0,
              "ticks": ""
             }
            },
            "type": "scattermap"
           }
          ],
          "scattermapbox": [
           {
            "marker": {
             "colorbar": {
              "outlinewidth": 0,
              "ticks": ""
             }
            },
            "type": "scattermapbox"
           }
          ],
          "scatterpolar": [
           {
            "marker": {
             "colorbar": {
              "outlinewidth": 0,
              "ticks": ""
             }
            },
            "type": "scatterpolar"
           }
          ],
          "scatterpolargl": [
           {
            "marker": {
             "colorbar": {
              "outlinewidth": 0,
              "ticks": ""
             }
            },
            "type": "scatterpolargl"
           }
          ],
          "scatterternary": [
           {
            "marker": {
             "colorbar": {
              "outlinewidth": 0,
              "ticks": ""
             }
            },
            "type": "scatterternary"
           }
          ],
          "surface": [
           {
            "colorbar": {
             "outlinewidth": 0,
             "ticks": ""
            },
            "colorscale": [
             [
              0,
              "#0d0887"
             ],
             [
              0.1111111111111111,
              "#46039f"
             ],
             [
              0.2222222222222222,
              "#7201a8"
             ],
             [
              0.3333333333333333,
              "#9c179e"
             ],
             [
              0.4444444444444444,
              "#bd3786"
             ],
             [
              0.5555555555555556,
              "#d8576b"
             ],
             [
              0.6666666666666666,
              "#ed7953"
             ],
             [
              0.7777777777777778,
              "#fb9f3a"
             ],
             [
              0.8888888888888888,
              "#fdca26"
             ],
             [
              1,
              "#f0f921"
             ]
            ],
            "type": "surface"
           }
          ],
          "table": [
           {
            "cells": {
             "fill": {
              "color": "#EBF0F8"
             },
             "line": {
              "color": "white"
             }
            },
            "header": {
             "fill": {
              "color": "#C8D4E3"
             },
             "line": {
              "color": "white"
             }
            },
            "type": "table"
           }
          ]
         },
         "layout": {
          "annotationdefaults": {
           "arrowcolor": "#2a3f5f",
           "arrowhead": 0,
           "arrowwidth": 1
          },
          "autotypenumbers": "strict",
          "coloraxis": {
           "colorbar": {
            "outlinewidth": 0,
            "ticks": ""
           }
          },
          "colorscale": {
           "diverging": [
            [
             0,
             "#8e0152"
            ],
            [
             0.1,
             "#c51b7d"
            ],
            [
             0.2,
             "#de77ae"
            ],
            [
             0.3,
             "#f1b6da"
            ],
            [
             0.4,
             "#fde0ef"
            ],
            [
             0.5,
             "#f7f7f7"
            ],
            [
             0.6,
             "#e6f5d0"
            ],
            [
             0.7,
             "#b8e186"
            ],
            [
             0.8,
             "#7fbc41"
            ],
            [
             0.9,
             "#4d9221"
            ],
            [
             1,
             "#276419"
            ]
           ],
           "sequential": [
            [
             0,
             "#0d0887"
            ],
            [
             0.1111111111111111,
             "#46039f"
            ],
            [
             0.2222222222222222,
             "#7201a8"
            ],
            [
             0.3333333333333333,
             "#9c179e"
            ],
            [
             0.4444444444444444,
             "#bd3786"
            ],
            [
             0.5555555555555556,
             "#d8576b"
            ],
            [
             0.6666666666666666,
             "#ed7953"
            ],
            [
             0.7777777777777778,
             "#fb9f3a"
            ],
            [
             0.8888888888888888,
             "#fdca26"
            ],
            [
             1,
             "#f0f921"
            ]
           ],
           "sequentialminus": [
            [
             0,
             "#0d0887"
            ],
            [
             0.1111111111111111,
             "#46039f"
            ],
            [
             0.2222222222222222,
             "#7201a8"
            ],
            [
             0.3333333333333333,
             "#9c179e"
            ],
            [
             0.4444444444444444,
             "#bd3786"
            ],
            [
             0.5555555555555556,
             "#d8576b"
            ],
            [
             0.6666666666666666,
             "#ed7953"
            ],
            [
             0.7777777777777778,
             "#fb9f3a"
            ],
            [
             0.8888888888888888,
             "#fdca26"
            ],
            [
             1,
             "#f0f921"
            ]
           ]
          },
          "colorway": [
           "#636efa",
           "#EF553B",
           "#00cc96",
           "#ab63fa",
           "#FFA15A",
           "#19d3f3",
           "#FF6692",
           "#B6E880",
           "#FF97FF",
           "#FECB52"
          ],
          "font": {
           "color": "#2a3f5f"
          },
          "geo": {
           "bgcolor": "white",
           "lakecolor": "white",
           "landcolor": "#E5ECF6",
           "showlakes": true,
           "showland": true,
           "subunitcolor": "white"
          },
          "hoverlabel": {
           "align": "left"
          },
          "hovermode": "closest",
          "mapbox": {
           "style": "light"
          },
          "paper_bgcolor": "white",
          "plot_bgcolor": "#E5ECF6",
          "polar": {
           "angularaxis": {
            "gridcolor": "white",
            "linecolor": "white",
            "ticks": ""
           },
           "bgcolor": "#E5ECF6",
           "radialaxis": {
            "gridcolor": "white",
            "linecolor": "white",
            "ticks": ""
           }
          },
          "scene": {
           "xaxis": {
            "backgroundcolor": "#E5ECF6",
            "gridcolor": "white",
            "gridwidth": 2,
            "linecolor": "white",
            "showbackground": true,
            "ticks": "",
            "zerolinecolor": "white"
           },
           "yaxis": {
            "backgroundcolor": "#E5ECF6",
            "gridcolor": "white",
            "gridwidth": 2,
            "linecolor": "white",
            "showbackground": true,
            "ticks": "",
            "zerolinecolor": "white"
           },
           "zaxis": {
            "backgroundcolor": "#E5ECF6",
            "gridcolor": "white",
            "gridwidth": 2,
            "linecolor": "white",
            "showbackground": true,
            "ticks": "",
            "zerolinecolor": "white"
           }
          },
          "shapedefaults": {
           "line": {
            "color": "#2a3f5f"
           }
          },
          "ternary": {
           "aaxis": {
            "gridcolor": "white",
            "linecolor": "white",
            "ticks": ""
           },
           "baxis": {
            "gridcolor": "white",
            "linecolor": "white",
            "ticks": ""
           },
           "bgcolor": "#E5ECF6",
           "caxis": {
            "gridcolor": "white",
            "linecolor": "white",
            "ticks": ""
           }
          },
          "title": {
           "x": 0.05
          },
          "xaxis": {
           "automargin": true,
           "gridcolor": "white",
           "linecolor": "white",
           "ticks": "",
           "title": {
            "standoff": 15
           },
           "zerolinecolor": "white",
           "zerolinewidth": 2
          },
          "yaxis": {
           "automargin": true,
           "gridcolor": "white",
           "linecolor": "white",
           "ticks": "",
           "title": {
            "standoff": 15
           },
           "zerolinecolor": "white",
           "zerolinewidth": 2
          }
         }
        },
        "width": 900,
        "xaxis": {
         "title": {
          "text": "N"
         }
        },
        "yaxis": {
         "title": {
          "text": "PRT/10"
         }
        }
       }
      }
     },
     "metadata": {},
     "output_type": "display_data"
    }
   ],
   "source": [
    "fig=go.Figure()\n",
    "fig.add_trace(go.Scatter(x=NSup,y=PRT10Sup,name='Super'))\n",
    "#fig.update_traces(marker=dict(color='green', size=10))\n",
    "fig.add_trace(go.Scatter(x=NAvg,y=PRT10Avg,name='Average'))\n",
    "fig.update_traces(marker=dict(size=10))\n",
    "\n",
    "\n",
    "ixFP=np.where((y[ixAverage]!=yp[ixAverage]))[0]+50\n",
    "ixFN=np.where((y[ixSuper]!=yp[ixSuper]))[0]\n",
    "\n",
    "fig.add_trace(go.Scatter(x=X[ixFN,0],y=X[ixFN,1],name='False Average',marker_size=15,\n",
    "                         marker_symbol=\"circle-open\",marker=dict(color=\"red\",\n",
    "                                                                 line=dict(width=3,color='red'))))\n",
    "fig.add_trace(go.Scatter(x=X[ixFP,0],y=X[ixFP,1],name='False Super',marker_size=15,\n",
    "                         marker_symbol=\"circle-open\",marker=dict(color=\"blue\",\n",
    "                                                                 line=dict(width=3,color='blue'))))\n",
    "\n",
    "\n",
    "fig.add_trace(go.Scatter(x=muSup[0],y=muSup[1], marker_size=20,\n",
    "                         marker_symbol='x',name='Super mean',\n",
    "                         marker=dict(color=\"green\",line=dict(width=1,\n",
    "                                        color='black'))))\n",
    "fig.add_trace(go.Scatter(x=muAvg[0],y=muAvg[1], marker_size=20,\n",
    "                         marker_symbol='x',name='Average mean',\n",
    "                         marker=dict(color=\"yellow\",line=dict(width=1,\n",
    "                                        color='black'))))\n",
    "fig.add_trace(go.Scatter(x=(muSup[0]+muAvg[0])/2,y=(muSup[1]+muAvg[1])/2, marker_size=20,\n",
    "                         marker_symbol=\"circle-dot\",name='Mean of the means',\n",
    "                         marker=dict(color=\"purple\",line=dict(width=1,\n",
    "                                        color='black'))))\n",
    "\n",
    "fig.update_traces(mode='markers')\n",
    "fig.add_trace(go.Scatter(x=[muSup[0][0],muAvg[0][0]],y=[muSup[1][0],muAvg[1][0]],\n",
    "                         mode='lines', line=dict(color=\"black\",width=4),name='Inter mean segment'))\n",
    "\n",
    "\n",
    "W=(muSup-muAvg)\n",
    "b=-0.5*(muSup-muAvg).T@(muSup+muAvg)\n",
    "\n",
    "x1=np.arange(20,130,1)\n",
    "\n",
    "x2=-(W[0,0]/W[1,0])*x1-b/W[1,0]\n",
    "fig.add_trace(go.Scatter(x=x1,y=x2.flatten(),\n",
    "                         mode='lines', line=dict(dash='dash',color=\"gray\",width=4),name='Hyperplane'))\n",
    "\n",
    "\n",
    "\n",
    "\n",
    "\n",
    "fig.update_xaxes(title_text='N')\n",
    "fig.update_yaxes(title_text='PRT/10')\n",
    "fig.update_layout(\n",
    "    autosize=False,\n",
    "    width=900,\n",
    "    height=800)\n",
    "fig.show()"
   ]
  },
  {
   "cell_type": "markdown",
   "id": "39c831cc-e74a-40a9-8a78-2f360cc044a9",
   "metadata": {},
   "source": [
    "-Find the Mahalanobis Linear Discriminants g1(x) and g2(x)?<p>"
   ]
  },
  {
   "cell_type": "code",
   "execution_count": 25,
   "id": "6c5d1bb6-9e64-45b0-b6fd-828476f7b915",
   "metadata": {},
   "outputs": [
    {
     "name": "stdout",
     "output_type": "stream",
     "text": [
      "[[ 0.0216046  -0.02555068]\n",
      " [-0.02555068  0.03601284]]\n",
      "gSup(x)=[[ 0.26160002 -0.09782884]]x-0.5[[10.89010522]]\n",
      "gAvg(x)=[[0.08025053 0.27763826]]x-0.5[[24.24687549]]\n"
     ]
    }
   ],
   "source": [
    "NSup=CorkStopp['N.1'].to_numpy()[ixSuper]\n",
    "NAvg=CorkStopp['N.1'].to_numpy()[ixAverage]\n",
    "\n",
    "PRT10Sup=(CorkStopp['PRT'].to_numpy()/10)[ixSuper]\n",
    "PRT10Avg=(CorkStopp['PRT'].to_numpy()/10)[ixAverage]\n",
    "\n",
    "\n",
    "muSup=np.array([[np.mean(NSup),np.mean(PRT10Sup)]]).T\n",
    "muAvg=np.array([[np.mean(NAvg),np.mean(PRT10Avg)]]).T\n",
    "\n",
    "CSup=np.cov(np.array([NSup,PRT10Sup]))\n",
    "CAvg=np.cov(np.array([NAvg,PRT10Avg]))\n",
    "\n",
    "C=(CSup+CAvg)/2\n",
    "Ci=np.linalg.inv(C)\n",
    "print(Ci)\n",
    "            \n",
    "print(\"gSup(x)=\"+str(muSup.T@Ci)+\"x-0.5\"+str(muSup.T@Ci@muSup))\n",
    "print(\"gAvg(x)=\"+str(muAvg.T@Ci)+\"x-0.5\"+str(muAvg.T@Ci@muAvg))"
   ]
  },
  {
   "cell_type": "markdown",
   "id": "4d3e416c-e4aa-4d62-af61-4de3a6e2ee9c",
   "metadata": {},
   "source": [
    "-Find the equation of the Mahalanobis MDC decision function, i.e., d(x)=g1(x)-g2(x)?"
   ]
  },
  {
   "cell_type": "code",
   "execution_count": 26,
   "id": "7b7a49c2-0328-4736-98fc-ed9cfa291f5c",
   "metadata": {},
   "outputs": [
    {
     "name": "stdout",
     "output_type": "stream",
     "text": [
      "d(x)=[[ 0.18134949 -0.37546711]]x-0.5[[-13.35677027]]\n"
     ]
    }
   ],
   "source": [
    "print(\"d(x)=\"+str((muSup-muAvg).T@Ci)+\"x-0.5\"+str((muSup-muAvg).T@Ci@(muSup+muAvg)))"
   ]
  },
  {
   "cell_type": "markdown",
   "id": "f39d41e7-868c-4680-9c50-4b931230118e",
   "metadata": {},
   "source": [
    "-Compute performance metrics?"
   ]
  },
  {
   "cell_type": "code",
   "execution_count": 27,
   "id": "0c261ce3-31ca-456f-b0b2-f81ed43ecf9b",
   "metadata": {},
   "outputs": [
    {
     "name": "stdout",
     "output_type": "stream",
     "text": [
      "y= [1. 1. 1. 1. 1. 1. 1. 1. 1. 1. 1. 1. 1. 1. 1. 1. 1. 1. 1. 1. 1. 1. 1. 1.\n",
      " 1. 1. 1. 1. 1. 1. 1. 1. 1. 1. 1. 1. 1. 1. 1. 1. 1. 1. 1. 1. 1. 1. 1. 1.\n",
      " 1. 1. 2. 2. 2. 2. 2. 2. 2. 2. 2. 2. 2. 2. 2. 2. 2. 2. 2. 2. 2. 2. 2. 2.\n",
      " 2. 2. 2. 2. 2. 2. 2. 2. 2. 2. 2. 2. 2. 2. 2. 2. 2. 2. 2. 2. 2. 2. 2. 2.\n",
      " 2. 2. 2. 2.]\n",
      "yp= [1. 1. 1. 1. 1. 1. 1. 1. 1. 1. 1. 1. 1. 1. 1. 1. 1. 1. 1. 1. 1. 1. 1. 1.\n",
      " 1. 1. 1. 1. 1. 1. 1. 1. 1. 1. 1. 1. 1. 1. 1. 1. 1. 1. 1. 1. 1. 1. 1. 1.\n",
      " 1. 1. 1. 1. 1. 1. 1. 1. 1. 1. 1. 1. 1. 1. 1. 1. 1. 1. 1. 1. 1. 1. 1. 1.\n",
      " 1. 1. 1. 1. 1. 1. 1. 1. 1. 1. 1. 1. 1. 1. 1. 1. 1. 1. 1. 1. 1. 1. 1. 1.\n",
      " 1. 1. 1. 1.]\n",
      "Sensitivity(%)=98.0\n",
      "Specificity(%)=82.0\n",
      "Precision(%)=84.48275862068965\n",
      "F1Score(%)=90.74074074074075\n",
      "Accuracy(%)=90.0\n"
     ]
    }
   ],
   "source": [
    "X1=np.array([NSup,PRT10Sup]).T\n",
    "X2=np.array([NAvg,PRT10Avg]).T\n",
    "X=np.concatenate((X1,X2),axis=0)\n",
    "y=np.concatenate((CorkStopp['C'].to_numpy()[ixSuper],CorkStopp['C'].to_numpy()[ixAverage]))\n",
    "print(\"y=\",y)\n",
    "yp=np.ones(np.shape(y))\n",
    "print(\"yp=\",yp)\n",
    "dx=((muSup-muAvg).T@Ci@(X.T-0.5*(muSup+muAvg))).flatten()\n",
    "yp[dx<0]=2\n",
    "\n",
    "Hits=np.shape(np.where((y==yp))[0])[0]\n",
    "TP=np.shape(np.where((y[ixSuper]==yp[ixSuper]))[0])[0]\n",
    "TN=np.shape(np.where((y[ixAverage]==yp[ixAverage]))[0])[0]\n",
    "FP=np.shape(np.where((y[ixAverage]!=yp[ixAverage]))[0])[0]\n",
    "FN=np.shape(np.where((y[ixSuper]!=yp[ixSuper]))[0])[0]\n",
    "\n",
    "SS=TP/(TP+FN)\n",
    "SP=TN/(TN+FP)\n",
    "PR=TP/(TP+FP)\n",
    "F1Score=2*(PR*SS)/(PR+SS)\n",
    "AC=(TN+TP)/(TP+TN+FP+FN)\n",
    "\n",
    "\n",
    "print(\"Sensitivity(%)=\"+str(SS*100))\n",
    "print(\"Specificity(%)=\"+str(SP*100))\n",
    "print(\"Precision(%)=\"+str(PR*100))\n",
    "print(\"F1Score(%)=\"+str(F1Score*100))\n",
    "print(\"Accuracy(%)=\"+str(AC*100))\n",
    "\n"
   ]
  },
  {
   "cell_type": "markdown",
   "id": "d22db3f5-56ac-4d91-a691-5e9c8124180b",
   "metadata": {},
   "source": [
    "-Represent geometrically the patterns, class means, and decision\n",
    "hyperplane?"
   ]
  },
  {
   "cell_type": "code",
   "execution_count": 28,
   "id": "d681390e-6cee-4142-a845-25c0d3f5f9ae",
   "metadata": {},
   "outputs": [
    {
     "data": {
      "application/vnd.plotly.v1+json": {
       "config": {
        "plotlyServerURL": "https://plot.ly"
       },
       "data": [
        {
         "marker": {
          "size": 10
         },
         "mode": "markers",
         "name": "Super",
         "type": "scatter",
         "x": {
          "bdata": "AAAAAACAREAAAAAAAABFQAAAAAAAADpAAAAAAACAT0AAAAAAAIBGQAAAAAAAgEtAAAAAAACATEAAAAAAAIBQQAAAAAAAAFBAAAAAAAAAQ0AAAAAAAABEQAAAAAAAAEtAAAAAAACAS0AAAAAAAABLQAAAAAAAgE1AAAAAAACAUkAAAAAAAIBPQAAAAAAAgFFAAAAAAAAATEAAAAAAAABDQAAAAAAAgEZAAAAAAACATkAAAAAAAMBWQAAAAAAAgE5AAAAAAACAUEAAAAAAAABJQAAAAAAAgE9AAAAAAACASUAAAAAAAAA4QAAAAAAAAFBAAAAAAAAAUEAAAAAAAIBKQAAAAAAAgEVAAAAAAADAU0AAAAAAAABGQAAAAAAAwFNAAAAAAAAATUAAAAAAAABRQAAAAAAAADJAAAAAAAAAUEAAAAAAAIBNQAAAAAAAAERAAAAAAAAAREAAAAAAAIBFQAAAAAAAQFZAAAAAAAAAN0AAAAAAAIBHQAAAAAAAAFNAAAAAAAAASkAAAAAAAEBWQA==",
          "dtype": "f8"
         },
         "y": {
          "bdata": "AAAAAAAAOUDNzMzMzMw3QJqZmZmZmTNAZmZmZmZmQkAAAAAAAIBBQJqZmZmZmT9AAAAAAAAARECamZmZmRlEQDMzMzMzM0VAZmZmZmZmOUAAAAAAAIBBQM3MzMzMzD9AZmZmZmZmQUCamZmZmRlCQGZmZmZmZkVAmpmZmZmZRkBmZmZmZmZHQDMzMzMzM0hAzczMzMxMQkDNzMzMzMw3QGZmZmZmZkBAZmZmZmbmREDNzMzMzMxMQM3MzMzMTEFAmpmZmZkZR0AzMzMzMzM9QAAAAAAAgEVAAAAAAACAQUAAAAAAAAAxQAAAAAAAgERAAAAAAACARECamZmZmRlBQAAAAAAAADtAmpmZmZkZTkCamZmZmZlAQM3MzMzMzEpAmpmZmZmZQ0CamZmZmZlDQM3MzMzMzCRAMzMzMzOzRUAAAAAAAIBDQJqZmZmZmThAzczMzMzMNkAzMzMzMzNCQJqZmZmZGU5AMzMzMzMzLUDNzMzMzMw+QJqZmZmZmUhAZmZmZmZmQUAAAAAAAABKQA==",
          "dtype": "f8"
         }
        },
        {
         "marker": {
          "size": 10
         },
         "mode": "markers",
         "name": "Average",
         "type": "scatter",
         "x": {
          "bdata": "AAAAAAAAU0AAAAAAAEBTQAAAAAAAQFRAAAAAAACAUkAAAAAAAIBRQAAAAAAAgFFAAAAAAAAAU0AAAAAAAABKQAAAAAAAAEVAAAAAAABAVEAAAAAAAABMQAAAAAAAgFlAAAAAAACAVUAAAAAAAABWQAAAAAAAQFtAAAAAAACATEAAAAAAAIBOQAAAAAAAgE5AAAAAAACATkAAAAAAAEBZQAAAAAAAAFhAAAAAAAAAUEAAAAAAAIBXQAAAAAAAgElAAAAAAACATkAAAAAAAABRQAAAAAAAAFVAAAAAAADAX0AAAAAAAEBXQAAAAAAAgFdAAAAAAACAVkAAAAAAAIBQQAAAAAAAgFBAAAAAAABAVUAAAAAAAIBZQAAAAAAAgFdAAAAAAADAVEAAAAAAAEBWQAAAAAAAwFNAAAAAAACAUEAAAAAAAMBUQAAAAAAAgFZAAAAAAABAWEAAAAAAAABUQAAAAAAAAFNAAAAAAAAAXUAAAAAAAIBVQAAAAAAAAFBAAAAAAABAVkAAAAAAAEBSQA==",
          "dtype": "f8"
         },
         "y": {
          "bdata": "zczMzMzMTUDNzMzMzMxMQDMzMzMzM09AAAAAAAAATUCamZmZmRlIQM3MzMzMzExAzczMzMzMTkAzMzMzM7NBQDMzMzMzMztAMzMzMzOzT0DNzMzMzExGQGZmZmZmZlFAMzMzMzMzTUCamZmZmVlRQGZmZmZmplRAZmZmZmZmR0AzMzMzM7NOQJqZmZmZmUpAAAAAAACARUBmZmZmZuZTQAAAAAAAQFVAzczMzMxMSkAzMzMzM/NTQJqZmZmZGUFAZmZmZmbmSkDNzMzMzExNQAAAAAAAwFFAmpmZmZlZWEAAAAAAAIBRQAAAAAAAQFJAAAAAAAAAUUBmZmZmZuZLQGZmZmZm5k1AMzMzMzOzUkDNzMzMzExSQGZmZmZmJlZAAAAAAABAUkAzMzMzM3NQQM3MzMzMzEtAzczMzMzMSkAAAAAAAIBSQGZmZmZmZlRAZmZmZmbmUkDNzMzMzIxSQGZmZmZm5lBAzczMzMzMV0AzMzMzMzNTQGZmZmZmZkdAMzMzMzOzUECamZmZmRlSQA==",
          "dtype": "f8"
         }
        },
        {
         "marker": {
          "color": "red",
          "line": {
           "color": "red",
           "width": 3
          },
          "size": 15,
          "symbol": "circle-open"
         },
         "mode": "markers",
         "name": "False Average",
         "type": "scatter",
         "x": {
          "bdata": "AAAAAADAU0A=",
          "dtype": "f8"
         },
         "y": {
          "bdata": "mpmZmZkZTkA=",
          "dtype": "f8"
         }
        },
        {
         "marker": {
          "color": "blue",
          "line": {
           "color": "blue",
           "width": 3
          },
          "size": 15,
          "symbol": "circle-open"
         },
         "mode": "markers",
         "name": "False Super",
         "type": "scatter",
         "x": {
          "bdata": "AAAAAACAUUAAAAAAAABKQAAAAAAAAEVAAAAAAAAATEAAAAAAAIBVQAAAAAAAgE5AAAAAAACASUAAAAAAAMBTQAAAAAAAAFBA",
          "dtype": "f8"
         },
         "y": {
          "bdata": "mpmZmZkZSEAzMzMzM7NBQDMzMzMzMztAzczMzMxMRkAzMzMzMzNNQAAAAAAAgEVAmpmZmZkZQUDNzMzMzMxLQGZmZmZmZkdA",
          "dtype": "f8"
         }
        },
        {
         "marker": {
          "color": "green",
          "line": {
           "color": "black",
           "width": 1
          },
          "size": 20,
          "symbol": "x"
         },
         "mode": "markers",
         "name": "Super mean",
         "type": "scatter",
         "x": {
          "bdata": "pHA9CtejS0A=",
          "dtype": "f8"
         },
         "y": {
          "bdata": "jZduEoNAQkA=",
          "dtype": "f8"
         }
        },
        {
         "marker": {
          "color": "yellow",
          "line": {
           "color": "black",
           "width": 1
          },
          "size": 20,
          "symbol": "x"
         },
         "mode": "markers",
         "name": "Average mean",
         "type": "scatter",
         "x": {
          "bdata": "j8L1KFzvU0A=",
          "dtype": "f8"
         },
         "y": {
          "bdata": "GQRWDi0SUEA=",
          "dtype": "f8"
         }
        },
        {
         "marker": {
          "color": "purple",
          "line": {
           "color": "black",
           "width": 1
          },
          "size": 20,
          "symbol": "circle-dot"
         },
         "mode": "markers",
         "name": "Mean of the means",
         "type": "scatter",
         "x": {
          "bdata": "cD0K16PgUEA=",
          "dtype": "f8"
         },
         "y": {
          "bdata": "4E+Nl24ySUA=",
          "dtype": "f8"
         }
        },
        {
         "line": {
          "color": "black",
          "width": 4
         },
         "mode": "lines",
         "name": "Inter mean segment",
         "type": "scatter",
         "x": [
          55.28,
          79.74
         ],
         "y": [
          36.504,
          64.284
         ]
        },
        {
         "line": {
          "color": "gray",
          "dash": "dash",
          "width": 4
         },
         "mode": "lines",
         "name": "Hyperplane",
         "type": "scatter",
         "x": {
          "bdata": "FAAAABUAAAAWAAAAFwAAABgAAAAZAAAAGgAAABsAAAAcAAAAHQAAAB4AAAAfAAAAIAAAACEAAAAiAAAAIwAAACQAAAAlAAAAJgAAACcAAAAoAAAAKQAAACoAAAArAAAALAAAAC0AAAAuAAAALwAAADAAAAAxAAAAMgAAADMAAAA0AAAANQAAADYAAAA3AAAAOAAAADkAAAA6AAAAOwAAADwAAAA9AAAAPgAAAD8AAABAAAAAQQAAAEIAAABDAAAARAAAAEUAAABGAAAARwAAAEgAAABJAAAASgAAAEsAAABMAAAATQAAAE4AAABPAAAAUAAAAFEAAABSAAAAUwAAAFQAAABVAAAAVgAAAFcAAABYAAAAWQAAAFoAAABbAAAAXAAAAF0AAABeAAAAXwAAAGAAAABhAAAAYgAAAGMAAABkAAAAZQAAAGYAAABnAAAAaAAAAGkAAABqAAAAawAAAGwAAABtAAAAbgAAAG8AAABwAAAAcQAAAHIAAABzAAAAdAAAAHUAAAB2AAAAdwAAAHgAAAB5AAAAegAAAHsAAAB8AAAAfQAAAH4AAAB/AAAAgAAAAIEAAAA=",
          "dtype": "i4"
         },
         "y": {
          "bdata": "X9wWQWJyO0ADQl3yB+47QKeno6OtaTxATA3qVFPlPEDwcjAG+WA9QJTYdree3D1AOD69aERYPkDcowMa6tM+QIAJSsuPTz9AJG+QfDXLP0BkauuWbSNAQDadjm9AYUBACNAxSBOfQEDaAtUg5txAQKw1ePm4GkFAf2gb0otYQUBRm76qXpZBQCPOYYMx1EFA9QAFXAQSQkDHM6g0109CQJpmSw2qjUJAbJnu5XzLQkA+zJG+TwlDQBD/NJciR0NA4jHYb/WEQ0C0ZHtIyMJDQIaXHiGbAERAWMrB+W0+REAq/WTSQHxEQPwvCKsTukRAzmKrg+b3RECglU5cuTVFQHLI8TSMc0VARPuUDV+xRUAWLjjmMe9FQOhg274ELUZAupN+l9dqRkCNxiFwqqhGQF/5xEh95kZAMSxoIVAkR0ADXwv6ImJHQNWRrtL1n0dAqMRRq8jdR0B69/SDmxtIQEwqmFxuWUhAHl07NUGXSEDwj94NFNVIQMLCgebmEklAlPUkv7lQSUBmKMiXjI5JQDhba3BfzElACo4OSTIKSkDcwLEhBUhKQK7zVPrXhUpAgCb40qrDSkBSWZurfQFLQCSMPoRQP0tA9r7hXCN9S0DI8YQ19rpLQJokKA7J+EtAblfL5ps2TEBAim6/bnRMQBK9EZhBskxA5O+0cBTwTEC2IlhJ5y1NQIhV+yG6a01AWoie+oypTUAsu0HTX+dNQP7t5KsyJU5A0CCIhAVjTkCiUytd2KBOQHSGzjWr3k5ARrlxDn4cT0AY7BTnUFpPQOoeuL8jmE9AvFFbmPbVT0BHQn+45AlQQLDb0CTOKFBAGXUikbdHUECCDnT9oGZQQOunxWmKhVBAVEEX1nOkUEC+2mhCXcNQQCd0uq5G4lBAkA0MGzABUUD5pl2HGSBRQGJAr/MCP1FAy9kAYOxdUUA0c1LM1XxRQJ0MpDi/m1FABqb1pKi6UUBvP0cRktlRQNjYmH17+FFAQXLq6WQXUkCqCzxWTjZSQBOljcI3VVJAfD7fLiF0UkDl1zCbCpNSQE5xggf0sVJAtwrUc93QUkAgpCXgxu9SQIk9d0ywDlNA8tbIuJktU0BccBolg0xTQMUJbJFsa1NALqO9/VWKU0CXPA9qP6lTQADWYNYoyFNAaW+yQhLnU0DSCASv+wVUQA==",
          "dtype": "f8"
         }
        }
       ],
       "layout": {
        "autosize": false,
        "height": 800,
        "template": {
         "data": {
          "bar": [
           {
            "error_x": {
             "color": "#2a3f5f"
            },
            "error_y": {
             "color": "#2a3f5f"
            },
            "marker": {
             "line": {
              "color": "#E5ECF6",
              "width": 0.5
             },
             "pattern": {
              "fillmode": "overlay",
              "size": 10,
              "solidity": 0.2
             }
            },
            "type": "bar"
           }
          ],
          "barpolar": [
           {
            "marker": {
             "line": {
              "color": "#E5ECF6",
              "width": 0.5
             },
             "pattern": {
              "fillmode": "overlay",
              "size": 10,
              "solidity": 0.2
             }
            },
            "type": "barpolar"
           }
          ],
          "carpet": [
           {
            "aaxis": {
             "endlinecolor": "#2a3f5f",
             "gridcolor": "white",
             "linecolor": "white",
             "minorgridcolor": "white",
             "startlinecolor": "#2a3f5f"
            },
            "baxis": {
             "endlinecolor": "#2a3f5f",
             "gridcolor": "white",
             "linecolor": "white",
             "minorgridcolor": "white",
             "startlinecolor": "#2a3f5f"
            },
            "type": "carpet"
           }
          ],
          "choropleth": [
           {
            "colorbar": {
             "outlinewidth": 0,
             "ticks": ""
            },
            "type": "choropleth"
           }
          ],
          "contour": [
           {
            "colorbar": {
             "outlinewidth": 0,
             "ticks": ""
            },
            "colorscale": [
             [
              0,
              "#0d0887"
             ],
             [
              0.1111111111111111,
              "#46039f"
             ],
             [
              0.2222222222222222,
              "#7201a8"
             ],
             [
              0.3333333333333333,
              "#9c179e"
             ],
             [
              0.4444444444444444,
              "#bd3786"
             ],
             [
              0.5555555555555556,
              "#d8576b"
             ],
             [
              0.6666666666666666,
              "#ed7953"
             ],
             [
              0.7777777777777778,
              "#fb9f3a"
             ],
             [
              0.8888888888888888,
              "#fdca26"
             ],
             [
              1,
              "#f0f921"
             ]
            ],
            "type": "contour"
           }
          ],
          "contourcarpet": [
           {
            "colorbar": {
             "outlinewidth": 0,
             "ticks": ""
            },
            "type": "contourcarpet"
           }
          ],
          "heatmap": [
           {
            "colorbar": {
             "outlinewidth": 0,
             "ticks": ""
            },
            "colorscale": [
             [
              0,
              "#0d0887"
             ],
             [
              0.1111111111111111,
              "#46039f"
             ],
             [
              0.2222222222222222,
              "#7201a8"
             ],
             [
              0.3333333333333333,
              "#9c179e"
             ],
             [
              0.4444444444444444,
              "#bd3786"
             ],
             [
              0.5555555555555556,
              "#d8576b"
             ],
             [
              0.6666666666666666,
              "#ed7953"
             ],
             [
              0.7777777777777778,
              "#fb9f3a"
             ],
             [
              0.8888888888888888,
              "#fdca26"
             ],
             [
              1,
              "#f0f921"
             ]
            ],
            "type": "heatmap"
           }
          ],
          "histogram": [
           {
            "marker": {
             "pattern": {
              "fillmode": "overlay",
              "size": 10,
              "solidity": 0.2
             }
            },
            "type": "histogram"
           }
          ],
          "histogram2d": [
           {
            "colorbar": {
             "outlinewidth": 0,
             "ticks": ""
            },
            "colorscale": [
             [
              0,
              "#0d0887"
             ],
             [
              0.1111111111111111,
              "#46039f"
             ],
             [
              0.2222222222222222,
              "#7201a8"
             ],
             [
              0.3333333333333333,
              "#9c179e"
             ],
             [
              0.4444444444444444,
              "#bd3786"
             ],
             [
              0.5555555555555556,
              "#d8576b"
             ],
             [
              0.6666666666666666,
              "#ed7953"
             ],
             [
              0.7777777777777778,
              "#fb9f3a"
             ],
             [
              0.8888888888888888,
              "#fdca26"
             ],
             [
              1,
              "#f0f921"
             ]
            ],
            "type": "histogram2d"
           }
          ],
          "histogram2dcontour": [
           {
            "colorbar": {
             "outlinewidth": 0,
             "ticks": ""
            },
            "colorscale": [
             [
              0,
              "#0d0887"
             ],
             [
              0.1111111111111111,
              "#46039f"
             ],
             [
              0.2222222222222222,
              "#7201a8"
             ],
             [
              0.3333333333333333,
              "#9c179e"
             ],
             [
              0.4444444444444444,
              "#bd3786"
             ],
             [
              0.5555555555555556,
              "#d8576b"
             ],
             [
              0.6666666666666666,
              "#ed7953"
             ],
             [
              0.7777777777777778,
              "#fb9f3a"
             ],
             [
              0.8888888888888888,
              "#fdca26"
             ],
             [
              1,
              "#f0f921"
             ]
            ],
            "type": "histogram2dcontour"
           }
          ],
          "mesh3d": [
           {
            "colorbar": {
             "outlinewidth": 0,
             "ticks": ""
            },
            "type": "mesh3d"
           }
          ],
          "parcoords": [
           {
            "line": {
             "colorbar": {
              "outlinewidth": 0,
              "ticks": ""
             }
            },
            "type": "parcoords"
           }
          ],
          "pie": [
           {
            "automargin": true,
            "type": "pie"
           }
          ],
          "scatter": [
           {
            "fillpattern": {
             "fillmode": "overlay",
             "size": 10,
             "solidity": 0.2
            },
            "type": "scatter"
           }
          ],
          "scatter3d": [
           {
            "line": {
             "colorbar": {
              "outlinewidth": 0,
              "ticks": ""
             }
            },
            "marker": {
             "colorbar": {
              "outlinewidth": 0,
              "ticks": ""
             }
            },
            "type": "scatter3d"
           }
          ],
          "scattercarpet": [
           {
            "marker": {
             "colorbar": {
              "outlinewidth": 0,
              "ticks": ""
             }
            },
            "type": "scattercarpet"
           }
          ],
          "scattergeo": [
           {
            "marker": {
             "colorbar": {
              "outlinewidth": 0,
              "ticks": ""
             }
            },
            "type": "scattergeo"
           }
          ],
          "scattergl": [
           {
            "marker": {
             "colorbar": {
              "outlinewidth": 0,
              "ticks": ""
             }
            },
            "type": "scattergl"
           }
          ],
          "scattermap": [
           {
            "marker": {
             "colorbar": {
              "outlinewidth": 0,
              "ticks": ""
             }
            },
            "type": "scattermap"
           }
          ],
          "scattermapbox": [
           {
            "marker": {
             "colorbar": {
              "outlinewidth": 0,
              "ticks": ""
             }
            },
            "type": "scattermapbox"
           }
          ],
          "scatterpolar": [
           {
            "marker": {
             "colorbar": {
              "outlinewidth": 0,
              "ticks": ""
             }
            },
            "type": "scatterpolar"
           }
          ],
          "scatterpolargl": [
           {
            "marker": {
             "colorbar": {
              "outlinewidth": 0,
              "ticks": ""
             }
            },
            "type": "scatterpolargl"
           }
          ],
          "scatterternary": [
           {
            "marker": {
             "colorbar": {
              "outlinewidth": 0,
              "ticks": ""
             }
            },
            "type": "scatterternary"
           }
          ],
          "surface": [
           {
            "colorbar": {
             "outlinewidth": 0,
             "ticks": ""
            },
            "colorscale": [
             [
              0,
              "#0d0887"
             ],
             [
              0.1111111111111111,
              "#46039f"
             ],
             [
              0.2222222222222222,
              "#7201a8"
             ],
             [
              0.3333333333333333,
              "#9c179e"
             ],
             [
              0.4444444444444444,
              "#bd3786"
             ],
             [
              0.5555555555555556,
              "#d8576b"
             ],
             [
              0.6666666666666666,
              "#ed7953"
             ],
             [
              0.7777777777777778,
              "#fb9f3a"
             ],
             [
              0.8888888888888888,
              "#fdca26"
             ],
             [
              1,
              "#f0f921"
             ]
            ],
            "type": "surface"
           }
          ],
          "table": [
           {
            "cells": {
             "fill": {
              "color": "#EBF0F8"
             },
             "line": {
              "color": "white"
             }
            },
            "header": {
             "fill": {
              "color": "#C8D4E3"
             },
             "line": {
              "color": "white"
             }
            },
            "type": "table"
           }
          ]
         },
         "layout": {
          "annotationdefaults": {
           "arrowcolor": "#2a3f5f",
           "arrowhead": 0,
           "arrowwidth": 1
          },
          "autotypenumbers": "strict",
          "coloraxis": {
           "colorbar": {
            "outlinewidth": 0,
            "ticks": ""
           }
          },
          "colorscale": {
           "diverging": [
            [
             0,
             "#8e0152"
            ],
            [
             0.1,
             "#c51b7d"
            ],
            [
             0.2,
             "#de77ae"
            ],
            [
             0.3,
             "#f1b6da"
            ],
            [
             0.4,
             "#fde0ef"
            ],
            [
             0.5,
             "#f7f7f7"
            ],
            [
             0.6,
             "#e6f5d0"
            ],
            [
             0.7,
             "#b8e186"
            ],
            [
             0.8,
             "#7fbc41"
            ],
            [
             0.9,
             "#4d9221"
            ],
            [
             1,
             "#276419"
            ]
           ],
           "sequential": [
            [
             0,
             "#0d0887"
            ],
            [
             0.1111111111111111,
             "#46039f"
            ],
            [
             0.2222222222222222,
             "#7201a8"
            ],
            [
             0.3333333333333333,
             "#9c179e"
            ],
            [
             0.4444444444444444,
             "#bd3786"
            ],
            [
             0.5555555555555556,
             "#d8576b"
            ],
            [
             0.6666666666666666,
             "#ed7953"
            ],
            [
             0.7777777777777778,
             "#fb9f3a"
            ],
            [
             0.8888888888888888,
             "#fdca26"
            ],
            [
             1,
             "#f0f921"
            ]
           ],
           "sequentialminus": [
            [
             0,
             "#0d0887"
            ],
            [
             0.1111111111111111,
             "#46039f"
            ],
            [
             0.2222222222222222,
             "#7201a8"
            ],
            [
             0.3333333333333333,
             "#9c179e"
            ],
            [
             0.4444444444444444,
             "#bd3786"
            ],
            [
             0.5555555555555556,
             "#d8576b"
            ],
            [
             0.6666666666666666,
             "#ed7953"
            ],
            [
             0.7777777777777778,
             "#fb9f3a"
            ],
            [
             0.8888888888888888,
             "#fdca26"
            ],
            [
             1,
             "#f0f921"
            ]
           ]
          },
          "colorway": [
           "#636efa",
           "#EF553B",
           "#00cc96",
           "#ab63fa",
           "#FFA15A",
           "#19d3f3",
           "#FF6692",
           "#B6E880",
           "#FF97FF",
           "#FECB52"
          ],
          "font": {
           "color": "#2a3f5f"
          },
          "geo": {
           "bgcolor": "white",
           "lakecolor": "white",
           "landcolor": "#E5ECF6",
           "showlakes": true,
           "showland": true,
           "subunitcolor": "white"
          },
          "hoverlabel": {
           "align": "left"
          },
          "hovermode": "closest",
          "mapbox": {
           "style": "light"
          },
          "paper_bgcolor": "white",
          "plot_bgcolor": "#E5ECF6",
          "polar": {
           "angularaxis": {
            "gridcolor": "white",
            "linecolor": "white",
            "ticks": ""
           },
           "bgcolor": "#E5ECF6",
           "radialaxis": {
            "gridcolor": "white",
            "linecolor": "white",
            "ticks": ""
           }
          },
          "scene": {
           "xaxis": {
            "backgroundcolor": "#E5ECF6",
            "gridcolor": "white",
            "gridwidth": 2,
            "linecolor": "white",
            "showbackground": true,
            "ticks": "",
            "zerolinecolor": "white"
           },
           "yaxis": {
            "backgroundcolor": "#E5ECF6",
            "gridcolor": "white",
            "gridwidth": 2,
            "linecolor": "white",
            "showbackground": true,
            "ticks": "",
            "zerolinecolor": "white"
           },
           "zaxis": {
            "backgroundcolor": "#E5ECF6",
            "gridcolor": "white",
            "gridwidth": 2,
            "linecolor": "white",
            "showbackground": true,
            "ticks": "",
            "zerolinecolor": "white"
           }
          },
          "shapedefaults": {
           "line": {
            "color": "#2a3f5f"
           }
          },
          "ternary": {
           "aaxis": {
            "gridcolor": "white",
            "linecolor": "white",
            "ticks": ""
           },
           "baxis": {
            "gridcolor": "white",
            "linecolor": "white",
            "ticks": ""
           },
           "bgcolor": "#E5ECF6",
           "caxis": {
            "gridcolor": "white",
            "linecolor": "white",
            "ticks": ""
           }
          },
          "title": {
           "x": 0.05
          },
          "xaxis": {
           "automargin": true,
           "gridcolor": "white",
           "linecolor": "white",
           "ticks": "",
           "title": {
            "standoff": 15
           },
           "zerolinecolor": "white",
           "zerolinewidth": 2
          },
          "yaxis": {
           "automargin": true,
           "gridcolor": "white",
           "linecolor": "white",
           "ticks": "",
           "title": {
            "standoff": 15
           },
           "zerolinecolor": "white",
           "zerolinewidth": 2
          }
         }
        },
        "width": 900,
        "xaxis": {
         "title": {
          "text": "N"
         }
        },
        "yaxis": {
         "title": {
          "text": "PRT/10"
         }
        }
       }
      }
     },
     "metadata": {},
     "output_type": "display_data"
    }
   ],
   "source": [
    "fig=go.Figure()\n",
    "fig.add_trace(go.Scatter(x=NSup,y=PRT10Sup,name='Super'))\n",
    "fig.add_trace(go.Scatter(x=NAvg,y=PRT10Avg,name='Average'))\n",
    "fig.update_traces(marker=dict(size=10))\n",
    "\n",
    "\n",
    "ixFP=np.where((y[ixAverage]!=yp[ixAverage]))[0]+50\n",
    "ixFN=np.where((y[ixSuper]!=yp[ixSuper]))[0]\n",
    "\n",
    "fig.add_trace(go.Scatter(x=X[ixFN,0],y=X[ixFN,1],name='False Average',marker_size=15,\n",
    "                         marker_symbol=\"circle-open\",marker=dict(color=\"red\",\n",
    "                                                                 line=dict(width=3,color='red'))))\n",
    "fig.add_trace(go.Scatter(x=X[ixFP,0],y=X[ixFP,1],name='False Super',marker_size=15,\n",
    "                         marker_symbol=\"circle-open\",marker=dict(color=\"blue\",\n",
    "                                                                 line=dict(width=3,color='blue'))))\n",
    "fig.add_trace(go.Scatter(x=muSup[0],y=muSup[1], marker_size=20,\n",
    "                         marker_symbol='x',name='Super mean',\n",
    "                         marker=dict(color=\"green\",line=dict(width=1,\n",
    "                                        color='black'))))\n",
    "fig.add_trace(go.Scatter(x=muAvg[0],y=muAvg[1], marker_size=20,\n",
    "                         marker_symbol='x',name='Average mean',\n",
    "                         marker=dict(color=\"yellow\",line=dict(width=1,\n",
    "                                        color='black'))))\n",
    "fig.add_trace(go.Scatter(x=(muSup[0]+muAvg[0])/2,y=(muSup[1]+muAvg[1])/2, marker_size=20,\n",
    "                         marker_symbol=\"circle-dot\",name='Mean of the means',\n",
    "                         marker=dict(color=\"purple\",line=dict(width=1,\n",
    "                                        color='black'))))\n",
    "\n",
    "fig.update_traces(mode='markers')\n",
    "fig.add_trace(go.Scatter(x=[muSup[0][0],muAvg[0][0]],y=[muSup[1][0],muAvg[1][0]],\n",
    "                         mode='lines', line=dict(color=\"black\",width=4),name='Inter mean segment'))\n",
    "\n",
    "\n",
    "W=((muSup-muAvg).T@Ci).T\n",
    "b=-0.5*(muSup-muAvg).T@Ci@(muSup+muAvg)\n",
    "\n",
    "x1=np.arange(20,130,1)\n",
    "\n",
    "x2=-(W[0,0]/W[1,0])*x1-b/W[1,0]\n",
    "fig.add_trace(go.Scatter(x=x1,y=x2.flatten(),\n",
    "                         mode='lines', line=dict(dash='dash',color=\"gray\",width=4),name='Hyperplane'))\n",
    "\n",
    "fig.update_xaxes(title_text='N')\n",
    "fig.update_yaxes(title_text='PRT/10')\n",
    "fig.update_layout(\n",
    "    autosize=False,\n",
    "    width=900,\n",
    "    height=800)\n",
    "fig.show()"
   ]
  },
  {
   "cell_type": "markdown",
   "id": "3cbaf5dd-6c79-46b9-b45f-79220a3e9606",
   "metadata": {},
   "source": [
    "FISHER Linear Discriminant\n",
    "1. Consider again Cork-Stoppers dataset and the two-dimensional input space defined by N and PRT/10.<p>\n",
    "• Generate the training and testing data sets by selecting randomly 70% of the samples for training and the remaining 30% for testing."
   ]
  },
  {
   "cell_type": "code",
   "execution_count": 29,
   "id": "7e866279-bd5c-4735-be99-5d80a2490ac0",
   "metadata": {},
   "outputs": [],
   "source": [
    "X1=np.array([NSup,PRT10Sup]).T\n",
    "X2=np.array([NAvg,PRT10Avg]).T\n",
    "X=np.concatenate((X1,X2),axis=0)\n",
    "y=np.concatenate((CorkStopp['C'].to_numpy()[ixSuper],CorkStopp['C'].to_numpy()[ixAverage]))\n",
    "\n",
    "nSamp=np.shape(X)[0]\n",
    "nSampTr=int(nSamp*0.7)\n",
    "\n",
    "rng = np.random.default_rng()\n",
    "perms=rng.permutation(nSamp)\n",
    "\n",
    "Xtr=X[perms[0:nSampTr],:]\n",
    "ytr=y[perms[0:nSampTr]]\n",
    "Xte=X[perms[nSampTr:],:]\n",
    "yte=y[perms[nSampTr:]]"
   ]
  },
  {
   "cell_type": "markdown",
   "id": "5c18813d-5a42-4924-afbb-aea893e9a9bf",
   "metadata": {},
   "source": [
    "• Create a linear classifer based on Fisher Linear Discriminant analysis and on the selected training data."
   ]
  },
  {
   "cell_type": "code",
   "execution_count": 30,
   "id": "b448ac95-7ea0-4430-8b89-e685c1526b2f",
   "metadata": {},
   "outputs": [],
   "source": [
    "ixSup=np.where(ytr==1)[0]\n",
    "ixAvg=np.where(ytr==2)[0]\n",
    "\n",
    "muSup=np.array([np.mean(Xtr[ixSup,:],axis=0)]).T\n",
    "muAvg=np.array([np.mean(Xtr[ixAvg,:],axis=0)]).T\n",
    "\n",
    "S1=(Xtr[ixSup,:].T-muSup)@(Xtr[ixSup,:].T-muSup).T\n",
    "S2=(Xtr[ixAvg,:].T-muAvg)@(Xtr[ixAvg,:].T-muAvg).T\n",
    "\n",
    "Sw=S1+S2\n",
    "SwInv=np.linalg.inv(Sw)\n",
    "\n",
    "w=SwInv@(muSup-muAvg)\n",
    "\n",
    "b=-0.5*(w.T@muSup+w.T@muAvg)\n"
   ]
  },
  {
   "cell_type": "markdown",
   "id": "cf048c32-116b-4f70-8e17-e39083b19e8e",
   "metadata": {},
   "source": [
    "• Plot the training data and the computed hyperplane."
   ]
  },
  {
   "cell_type": "code",
   "execution_count": 31,
   "id": "200f0437-7e40-406a-b8cf-ba95660394b8",
   "metadata": {},
   "outputs": [
    {
     "data": {
      "application/vnd.plotly.v1+json": {
       "config": {
        "plotlyServerURL": "https://plot.ly"
       },
       "data": [
        {
         "marker": {
          "size": 10
         },
         "mode": "markers",
         "name": "Super",
         "type": "scatter",
         "x": {
          "bdata": "AAAAAACAUUAAAAAAAABDQAAAAAAAAEVAAAAAAACAR0AAAAAAAIBJQAAAAAAAgFBAAAAAAACATkAAAAAAAABDQAAAAAAAgE5AAAAAAAAAUEAAAAAAAABKQAAAAAAAAElAAAAAAACARUAAAAAAAIBLQAAAAAAAgEtAAAAAAADAVkAAAAAAAIBPQAAAAAAAgExAAAAAAAAAUEAAAAAAAABQQAAAAAAAAEtAAAAAAAAATUAAAAAAAAA4QAAAAAAAgEVAAAAAAACARkAAAAAAAEBWQAAAAAAAAEtAAAAAAACAT0AAAAAAAIBSQAAAAAAAgE1AAAAAAAAAMkAAAAAAAABQQAAAAAAAAExAAAAAAAAAN0AAAAAAAMBTQA==",
          "dtype": "f8"
         },
         "y": {
          "bdata": "MzMzMzMzSEDNzMzMzMw3QM3MzMzMzDdAzczMzMzMPkAAAAAAAIBBQJqZmZmZGUdAzczMzMxMQUBmZmZmZmY5QGZmZmZm5kRAAAAAAACAREBmZmZmZmZBQDMzMzMzMz1AAAAAAAAAO0CamZmZmZk/QGZmZmZmZkFAzczMzMzMTEBmZmZmZmZHQAAAAAAAAERAMzMzMzOzRUAAAAAAAIBEQJqZmZmZGUJAmpmZmZmZQ0AAAAAAAAAxQDMzMzMzM0JAZmZmZmZmQECamZmZmRlOQM3MzMzMzD9AAAAAAACARUCamZmZmZlGQGZmZmZmZkVAzczMzMzMJEAzMzMzMzNFQM3MzMzMTEJAMzMzMzMzLUCamZmZmRlOQA==",
          "dtype": "f8"
         }
        },
        {
         "marker": {
          "size": 10
         },
         "mode": "markers",
         "name": "Average",
         "type": "scatter",
         "x": {
          "bdata": "AAAAAACAUEAAAAAAAIBXQAAAAAAAQFZAAAAAAACATEAAAAAAAABYQAAAAAAAwFRAAAAAAACASUAAAAAAAIBVQAAAAAAAQFZAAAAAAACAVUAAAAAAAEBZQAAAAAAAgFFAAAAAAACATkAAAAAAAABTQAAAAAAAgFBAAAAAAACAVkAAAAAAAABTQAAAAAAAAFNAAAAAAACAWUAAAAAAAABQQAAAAAAAgFdAAAAAAAAAVUAAAAAAAABUQAAAAAAAgFlAAAAAAAAAUUAAAAAAAEBYQAAAAAAAAExAAAAAAABAVEAAAAAAAIBOQAAAAAAAgFBAAAAAAACAUUAAAAAAAIBOQAAAAAAAwF9AAAAAAACAV0AAAAAAAIBSQA==",
          "dtype": "f8"
         },
         "y": {
          "bdata": "ZmZmZmbmS0BmZmZmZiZWQDMzMzMzc1BAZmZmZmZmR0AAAAAAAEBVQAAAAAAAgFJAmpmZmZkZQUAzMzMzMzNNQDMzMzMzs1BAMzMzMzMzU0BmZmZmZuZTQJqZmZmZGUhAAAAAAACARUDNzMzMzMxNQGZmZmZm5k1AAAAAAAAAUUDNzMzMzMxOQGZmZmZm5lBAZmZmZmZmUUDNzMzMzExKQAAAAAAAQFJAAAAAAADAUUDNzMzMzIxSQM3MzMzMTFJAzczMzMxMTUBmZmZmZuZSQM3MzMzMTEZAMzMzMzOzT0AzMzMzM7NOQM3MzMzMzEpAzczMzMzMTECamZmZmZlKQJqZmZmZWVhAMzMzMzPzU0AAAAAAAABNQA==",
          "dtype": "f8"
         }
        },
        {
         "line": {
          "color": "gray",
          "dash": "dash",
          "width": 4
         },
         "mode": "lines",
         "name": "Hyperplane",
         "type": "scatter",
         "x": {
          "bdata": "FAAAABUAAAAWAAAAFwAAABgAAAAZAAAAGgAAABsAAAAcAAAAHQAAAB4AAAAfAAAAIAAAACEAAAAiAAAAIwAAACQAAAAlAAAAJgAAACcAAAAoAAAAKQAAACoAAAArAAAALAAAAC0AAAAuAAAALwAAADAAAAAxAAAAMgAAADMAAAA0AAAANQAAADYAAAA3AAAAOAAAADkAAAA6AAAAOwAAADwAAAA9AAAAPgAAAD8AAABAAAAAQQAAAEIAAABDAAAARAAAAEUAAABGAAAARwAAAEgAAABJAAAASgAAAEsAAABMAAAATQAAAE4AAABPAAAAUAAAAFEAAABSAAAAUwAAAFQAAABVAAAAVgAAAFcAAABYAAAAWQAAAFoAAABbAAAAXAAAAF0AAABeAAAAXwAAAGAAAABhAAAAYgAAAGMAAABkAAAAZQAAAGYAAABnAAAAaAAAAGkAAABqAAAAawAAAGwAAABtAAAAbgAAAG8AAABwAAAAcQAAAHIAAABzAAAAdAAAAHUAAAB2AAAAdwAAAHgAAAB5AAAAegAAAHsAAAB8AAAAfQAAAH4AAAB/AAAAgAAAAIEAAAA=",
          "dtype": "i4"
         },
         "y": {
          "bdata": "1LlVWMsuO0CkkwhP3aw7QHRtu0XvKjxAQ0duPAGpPEASISEzEyc9QOL60yklpT1AstSGIDcjPkCBrjkXSaE+QFCI7A1bHz9AIGKfBG2dP0D4Hal9vw1AQOCKAnnITEBAx/dbdNGLQECvZLVv2spAQJbRDmvjCUFAfj5oZuxIQUBmq8Fh9YdBQE4YG13+xkFANoV0WAcGQkAe8s1TEEVCQAVfJ08ZhEJA7cuASiLDQkDUONpFKwJDQLylM0E0QUNApBKNPD2AQ0CMf+Y3Rr9DQHTsPzNP/kNAXFmZLlg9REBDxvIpYXxEQCszTCVqu0RAEqClIHP6RED6DP8bfDlFQOJ5WBeFeEVAyuaxEo63RUCyUwsOl/ZFQJrAZAmgNUZAgS2+BKl0RkBpmhcAsrNGQFAHcfu68kZAOHTK9sMxR0Ag4SPyzHBHQAhOfe3Vr0dA8LrW6N7uR0DYJzDk5y1IQL+Uid/wbEhApgHj2vmrSECObjzWAutIQHbbldELKklAXkjvzBRpSUBGtUjIHahJQC4iosMm50lAFo/7vi8mSkD8+1S6OGVKQORorrVBpEpAzNUHsUrjSkC0QmGsUyJLQJyvuqdcYUtAhBwUo2WgS0BsiW2ebt9LQFT2xpl3HkxAOmMglYBdTEAi0HmQiZxMQAo904uS20xA8qksh5saTUDaFoaCpFlNQMKD332tmE1AqvA4ebbXTUCSXZJ0vxZOQHjK62/IVU5AYDdFa9GUTkBIpJ5m2tNOQDAR+GHjEk9AGH5RXexRT0AA66pY9ZBPQOhXBFT+z09AaOKup4MHUEDbmFslCCdQQE9PCKOMRlBAwwW1IBFmUEA3vGGelYVQQKtyDhwapVBAHym7mZ7EUECT32cXI+RQQAaWFJWnA1FAekzBEiwjUUDuAm6QsEJRQGK5Gg41YlFA1m/Hi7mBUUBKJnQJPqFRQL7cIIfCwFFAMpPNBEfgUUClSXqCy/9RQBkAJwBQH1JAjbbTfdQ+UkABbYD7WF5SQHUjLXndfVJA6dnZ9mGdUkBdkIZ05rxSQNFGM/Jq3FJARP3fb+/7UkC4s4ztcxtTQCxqOWv4OlNAoCDm6HxaU0AU15JmAXpTQIiNP+SFmVNA/EPsYQq5U0Bw+pjfjthTQOOwRV0T+FNAV2fy2pcXVEDLHZ9YHDdUQA==",
          "dtype": "f8"
         }
        }
       ],
       "layout": {
        "autosize": false,
        "height": 800,
        "template": {
         "data": {
          "bar": [
           {
            "error_x": {
             "color": "#2a3f5f"
            },
            "error_y": {
             "color": "#2a3f5f"
            },
            "marker": {
             "line": {
              "color": "#E5ECF6",
              "width": 0.5
             },
             "pattern": {
              "fillmode": "overlay",
              "size": 10,
              "solidity": 0.2
             }
            },
            "type": "bar"
           }
          ],
          "barpolar": [
           {
            "marker": {
             "line": {
              "color": "#E5ECF6",
              "width": 0.5
             },
             "pattern": {
              "fillmode": "overlay",
              "size": 10,
              "solidity": 0.2
             }
            },
            "type": "barpolar"
           }
          ],
          "carpet": [
           {
            "aaxis": {
             "endlinecolor": "#2a3f5f",
             "gridcolor": "white",
             "linecolor": "white",
             "minorgridcolor": "white",
             "startlinecolor": "#2a3f5f"
            },
            "baxis": {
             "endlinecolor": "#2a3f5f",
             "gridcolor": "white",
             "linecolor": "white",
             "minorgridcolor": "white",
             "startlinecolor": "#2a3f5f"
            },
            "type": "carpet"
           }
          ],
          "choropleth": [
           {
            "colorbar": {
             "outlinewidth": 0,
             "ticks": ""
            },
            "type": "choropleth"
           }
          ],
          "contour": [
           {
            "colorbar": {
             "outlinewidth": 0,
             "ticks": ""
            },
            "colorscale": [
             [
              0,
              "#0d0887"
             ],
             [
              0.1111111111111111,
              "#46039f"
             ],
             [
              0.2222222222222222,
              "#7201a8"
             ],
             [
              0.3333333333333333,
              "#9c179e"
             ],
             [
              0.4444444444444444,
              "#bd3786"
             ],
             [
              0.5555555555555556,
              "#d8576b"
             ],
             [
              0.6666666666666666,
              "#ed7953"
             ],
             [
              0.7777777777777778,
              "#fb9f3a"
             ],
             [
              0.8888888888888888,
              "#fdca26"
             ],
             [
              1,
              "#f0f921"
             ]
            ],
            "type": "contour"
           }
          ],
          "contourcarpet": [
           {
            "colorbar": {
             "outlinewidth": 0,
             "ticks": ""
            },
            "type": "contourcarpet"
           }
          ],
          "heatmap": [
           {
            "colorbar": {
             "outlinewidth": 0,
             "ticks": ""
            },
            "colorscale": [
             [
              0,
              "#0d0887"
             ],
             [
              0.1111111111111111,
              "#46039f"
             ],
             [
              0.2222222222222222,
              "#7201a8"
             ],
             [
              0.3333333333333333,
              "#9c179e"
             ],
             [
              0.4444444444444444,
              "#bd3786"
             ],
             [
              0.5555555555555556,
              "#d8576b"
             ],
             [
              0.6666666666666666,
              "#ed7953"
             ],
             [
              0.7777777777777778,
              "#fb9f3a"
             ],
             [
              0.8888888888888888,
              "#fdca26"
             ],
             [
              1,
              "#f0f921"
             ]
            ],
            "type": "heatmap"
           }
          ],
          "histogram": [
           {
            "marker": {
             "pattern": {
              "fillmode": "overlay",
              "size": 10,
              "solidity": 0.2
             }
            },
            "type": "histogram"
           }
          ],
          "histogram2d": [
           {
            "colorbar": {
             "outlinewidth": 0,
             "ticks": ""
            },
            "colorscale": [
             [
              0,
              "#0d0887"
             ],
             [
              0.1111111111111111,
              "#46039f"
             ],
             [
              0.2222222222222222,
              "#7201a8"
             ],
             [
              0.3333333333333333,
              "#9c179e"
             ],
             [
              0.4444444444444444,
              "#bd3786"
             ],
             [
              0.5555555555555556,
              "#d8576b"
             ],
             [
              0.6666666666666666,
              "#ed7953"
             ],
             [
              0.7777777777777778,
              "#fb9f3a"
             ],
             [
              0.8888888888888888,
              "#fdca26"
             ],
             [
              1,
              "#f0f921"
             ]
            ],
            "type": "histogram2d"
           }
          ],
          "histogram2dcontour": [
           {
            "colorbar": {
             "outlinewidth": 0,
             "ticks": ""
            },
            "colorscale": [
             [
              0,
              "#0d0887"
             ],
             [
              0.1111111111111111,
              "#46039f"
             ],
             [
              0.2222222222222222,
              "#7201a8"
             ],
             [
              0.3333333333333333,
              "#9c179e"
             ],
             [
              0.4444444444444444,
              "#bd3786"
             ],
             [
              0.5555555555555556,
              "#d8576b"
             ],
             [
              0.6666666666666666,
              "#ed7953"
             ],
             [
              0.7777777777777778,
              "#fb9f3a"
             ],
             [
              0.8888888888888888,
              "#fdca26"
             ],
             [
              1,
              "#f0f921"
             ]
            ],
            "type": "histogram2dcontour"
           }
          ],
          "mesh3d": [
           {
            "colorbar": {
             "outlinewidth": 0,
             "ticks": ""
            },
            "type": "mesh3d"
           }
          ],
          "parcoords": [
           {
            "line": {
             "colorbar": {
              "outlinewidth": 0,
              "ticks": ""
             }
            },
            "type": "parcoords"
           }
          ],
          "pie": [
           {
            "automargin": true,
            "type": "pie"
           }
          ],
          "scatter": [
           {
            "fillpattern": {
             "fillmode": "overlay",
             "size": 10,
             "solidity": 0.2
            },
            "type": "scatter"
           }
          ],
          "scatter3d": [
           {
            "line": {
             "colorbar": {
              "outlinewidth": 0,
              "ticks": ""
             }
            },
            "marker": {
             "colorbar": {
              "outlinewidth": 0,
              "ticks": ""
             }
            },
            "type": "scatter3d"
           }
          ],
          "scattercarpet": [
           {
            "marker": {
             "colorbar": {
              "outlinewidth": 0,
              "ticks": ""
             }
            },
            "type": "scattercarpet"
           }
          ],
          "scattergeo": [
           {
            "marker": {
             "colorbar": {
              "outlinewidth": 0,
              "ticks": ""
             }
            },
            "type": "scattergeo"
           }
          ],
          "scattergl": [
           {
            "marker": {
             "colorbar": {
              "outlinewidth": 0,
              "ticks": ""
             }
            },
            "type": "scattergl"
           }
          ],
          "scattermap": [
           {
            "marker": {
             "colorbar": {
              "outlinewidth": 0,
              "ticks": ""
             }
            },
            "type": "scattermap"
           }
          ],
          "scattermapbox": [
           {
            "marker": {
             "colorbar": {
              "outlinewidth": 0,
              "ticks": ""
             }
            },
            "type": "scattermapbox"
           }
          ],
          "scatterpolar": [
           {
            "marker": {
             "colorbar": {
              "outlinewidth": 0,
              "ticks": ""
             }
            },
            "type": "scatterpolar"
           }
          ],
          "scatterpolargl": [
           {
            "marker": {
             "colorbar": {
              "outlinewidth": 0,
              "ticks": ""
             }
            },
            "type": "scatterpolargl"
           }
          ],
          "scatterternary": [
           {
            "marker": {
             "colorbar": {
              "outlinewidth": 0,
              "ticks": ""
             }
            },
            "type": "scatterternary"
           }
          ],
          "surface": [
           {
            "colorbar": {
             "outlinewidth": 0,
             "ticks": ""
            },
            "colorscale": [
             [
              0,
              "#0d0887"
             ],
             [
              0.1111111111111111,
              "#46039f"
             ],
             [
              0.2222222222222222,
              "#7201a8"
             ],
             [
              0.3333333333333333,
              "#9c179e"
             ],
             [
              0.4444444444444444,
              "#bd3786"
             ],
             [
              0.5555555555555556,
              "#d8576b"
             ],
             [
              0.6666666666666666,
              "#ed7953"
             ],
             [
              0.7777777777777778,
              "#fb9f3a"
             ],
             [
              0.8888888888888888,
              "#fdca26"
             ],
             [
              1,
              "#f0f921"
             ]
            ],
            "type": "surface"
           }
          ],
          "table": [
           {
            "cells": {
             "fill": {
              "color": "#EBF0F8"
             },
             "line": {
              "color": "white"
             }
            },
            "header": {
             "fill": {
              "color": "#C8D4E3"
             },
             "line": {
              "color": "white"
             }
            },
            "type": "table"
           }
          ]
         },
         "layout": {
          "annotationdefaults": {
           "arrowcolor": "#2a3f5f",
           "arrowhead": 0,
           "arrowwidth": 1
          },
          "autotypenumbers": "strict",
          "coloraxis": {
           "colorbar": {
            "outlinewidth": 0,
            "ticks": ""
           }
          },
          "colorscale": {
           "diverging": [
            [
             0,
             "#8e0152"
            ],
            [
             0.1,
             "#c51b7d"
            ],
            [
             0.2,
             "#de77ae"
            ],
            [
             0.3,
             "#f1b6da"
            ],
            [
             0.4,
             "#fde0ef"
            ],
            [
             0.5,
             "#f7f7f7"
            ],
            [
             0.6,
             "#e6f5d0"
            ],
            [
             0.7,
             "#b8e186"
            ],
            [
             0.8,
             "#7fbc41"
            ],
            [
             0.9,
             "#4d9221"
            ],
            [
             1,
             "#276419"
            ]
           ],
           "sequential": [
            [
             0,
             "#0d0887"
            ],
            [
             0.1111111111111111,
             "#46039f"
            ],
            [
             0.2222222222222222,
             "#7201a8"
            ],
            [
             0.3333333333333333,
             "#9c179e"
            ],
            [
             0.4444444444444444,
             "#bd3786"
            ],
            [
             0.5555555555555556,
             "#d8576b"
            ],
            [
             0.6666666666666666,
             "#ed7953"
            ],
            [
             0.7777777777777778,
             "#fb9f3a"
            ],
            [
             0.8888888888888888,
             "#fdca26"
            ],
            [
             1,
             "#f0f921"
            ]
           ],
           "sequentialminus": [
            [
             0,
             "#0d0887"
            ],
            [
             0.1111111111111111,
             "#46039f"
            ],
            [
             0.2222222222222222,
             "#7201a8"
            ],
            [
             0.3333333333333333,
             "#9c179e"
            ],
            [
             0.4444444444444444,
             "#bd3786"
            ],
            [
             0.5555555555555556,
             "#d8576b"
            ],
            [
             0.6666666666666666,
             "#ed7953"
            ],
            [
             0.7777777777777778,
             "#fb9f3a"
            ],
            [
             0.8888888888888888,
             "#fdca26"
            ],
            [
             1,
             "#f0f921"
            ]
           ]
          },
          "colorway": [
           "#636efa",
           "#EF553B",
           "#00cc96",
           "#ab63fa",
           "#FFA15A",
           "#19d3f3",
           "#FF6692",
           "#B6E880",
           "#FF97FF",
           "#FECB52"
          ],
          "font": {
           "color": "#2a3f5f"
          },
          "geo": {
           "bgcolor": "white",
           "lakecolor": "white",
           "landcolor": "#E5ECF6",
           "showlakes": true,
           "showland": true,
           "subunitcolor": "white"
          },
          "hoverlabel": {
           "align": "left"
          },
          "hovermode": "closest",
          "mapbox": {
           "style": "light"
          },
          "paper_bgcolor": "white",
          "plot_bgcolor": "#E5ECF6",
          "polar": {
           "angularaxis": {
            "gridcolor": "white",
            "linecolor": "white",
            "ticks": ""
           },
           "bgcolor": "#E5ECF6",
           "radialaxis": {
            "gridcolor": "white",
            "linecolor": "white",
            "ticks": ""
           }
          },
          "scene": {
           "xaxis": {
            "backgroundcolor": "#E5ECF6",
            "gridcolor": "white",
            "gridwidth": 2,
            "linecolor": "white",
            "showbackground": true,
            "ticks": "",
            "zerolinecolor": "white"
           },
           "yaxis": {
            "backgroundcolor": "#E5ECF6",
            "gridcolor": "white",
            "gridwidth": 2,
            "linecolor": "white",
            "showbackground": true,
            "ticks": "",
            "zerolinecolor": "white"
           },
           "zaxis": {
            "backgroundcolor": "#E5ECF6",
            "gridcolor": "white",
            "gridwidth": 2,
            "linecolor": "white",
            "showbackground": true,
            "ticks": "",
            "zerolinecolor": "white"
           }
          },
          "shapedefaults": {
           "line": {
            "color": "#2a3f5f"
           }
          },
          "ternary": {
           "aaxis": {
            "gridcolor": "white",
            "linecolor": "white",
            "ticks": ""
           },
           "baxis": {
            "gridcolor": "white",
            "linecolor": "white",
            "ticks": ""
           },
           "bgcolor": "#E5ECF6",
           "caxis": {
            "gridcolor": "white",
            "linecolor": "white",
            "ticks": ""
           }
          },
          "title": {
           "x": 0.05
          },
          "xaxis": {
           "automargin": true,
           "gridcolor": "white",
           "linecolor": "white",
           "ticks": "",
           "title": {
            "standoff": 15
           },
           "zerolinecolor": "white",
           "zerolinewidth": 2
          },
          "yaxis": {
           "automargin": true,
           "gridcolor": "white",
           "linecolor": "white",
           "ticks": "",
           "title": {
            "standoff": 15
           },
           "zerolinecolor": "white",
           "zerolinewidth": 2
          }
         }
        },
        "width": 900,
        "xaxis": {
         "title": {
          "text": "N"
         }
        },
        "yaxis": {
         "title": {
          "text": "PRT/10"
         }
        }
       }
      }
     },
     "metadata": {},
     "output_type": "display_data"
    }
   ],
   "source": [
    "fig=go.Figure()\n",
    "fig.add_trace(go.Scatter(x=Xtr[ixSup,0],y=Xtr[ixSup,1],mode='markers',name='Super'))\n",
    "fig.add_trace(go.Scatter(x=Xtr[ixAvg,0],y=Xtr[ixAvg,1],mode='markers',name='Average'))\n",
    "fig.update_traces(marker=dict(size=10))\n",
    "\n",
    "\n",
    "x1=np.arange(20,130,1)\n",
    "\n",
    "x2=-(w[0,0]/w[1,0])*x1-b/w[1,0]\n",
    "fig.add_trace(go.Scatter(x=x1,y=x2.flatten(),\n",
    "                         mode='lines', line=dict(dash='dash',color=\"gray\",width=4),name='Hyperplane'))\n",
    "\n",
    "fig.update_xaxes(title_text='N')\n",
    "fig.update_yaxes(title_text='PRT/10')\n",
    "fig.update_layout(\n",
    "    autosize=False,\n",
    "    width=900,\n",
    "    height=800)\n",
    "fig.show()"
   ]
  },
  {
   "cell_type": "markdown",
   "id": "11aab6da-f892-4a32-a882-d3baa43e7ff7",
   "metadata": {},
   "source": [
    "-Plot the testing data and the computed hyperplane."
   ]
  },
  {
   "cell_type": "code",
   "execution_count": 32,
   "id": "ad940962-5833-45b1-91e2-55c107740fb0",
   "metadata": {},
   "outputs": [
    {
     "data": {
      "application/vnd.plotly.v1+json": {
       "config": {
        "plotlyServerURL": "https://plot.ly"
       },
       "data": [
        {
         "marker": {
          "size": 10
         },
         "mode": "markers",
         "name": "Super",
         "type": "scatter",
         "x": {
          "bdata": "AAAAAACAUEAAAAAAAMBTQAAAAAAAgEZAAAAAAACATUAAAAAAAIBEQAAAAAAAAFFAAAAAAAAAREAAAAAAAABEQAAAAAAAQFZAAAAAAAAAOkAAAAAAAABEQAAAAAAAgE9AAAAAAACASkAAAAAAAABGQAAAAAAAAFNA",
          "dtype": "f8"
         },
         "y": {
          "bdata": "mpmZmZkZREDNzMzMzMxKQAAAAAAAgEFAAAAAAACAQ0AAAAAAAAA5QJqZmZmZmUNAAAAAAACAQUDNzMzMzMw2QAAAAAAAAEpAmpmZmZmZM0CamZmZmZk4QGZmZmZmZkJAmpmZmZkZQUCamZmZmZlAQJqZmZmZmUhA",
          "dtype": "f8"
         }
        },
        {
         "marker": {
          "size": 10
         },
         "mode": "markers",
         "name": "Average",
         "type": "scatter",
         "x": {
          "bdata": "AAAAAAAASkAAAAAAAEBTQAAAAAAAAF1AAAAAAABAW0AAAAAAAABQQAAAAAAAQFJAAAAAAACAVkAAAAAAAABWQAAAAAAAAEVAAAAAAACATkAAAAAAAEBVQAAAAAAAQFdAAAAAAADAVEAAAAAAAEBUQAAAAAAAwFNA",
          "dtype": "f8"
         },
         "y": {
          "bdata": "MzMzMzOzQUDNzMzMzMxMQM3MzMzMzFdAZmZmZmamVEBmZmZmZmZHQJqZmZmZGVJAZmZmZmZmVECamZmZmVlRQDMzMzMzMztAZmZmZmbmSkAzMzMzM7NSQAAAAAAAgFFAAAAAAABAUkAzMzMzMzNPQM3MzMzMzEtA",
          "dtype": "f8"
         }
        },
        {
         "line": {
          "color": "gray",
          "dash": "dash",
          "width": 4
         },
         "mode": "lines",
         "name": "Hyperplane",
         "type": "scatter",
         "x": {
          "bdata": "FAAAABUAAAAWAAAAFwAAABgAAAAZAAAAGgAAABsAAAAcAAAAHQAAAB4AAAAfAAAAIAAAACEAAAAiAAAAIwAAACQAAAAlAAAAJgAAACcAAAAoAAAAKQAAACoAAAArAAAALAAAAC0AAAAuAAAALwAAADAAAAAxAAAAMgAAADMAAAA0AAAANQAAADYAAAA3AAAAOAAAADkAAAA6AAAAOwAAADwAAAA9AAAAPgAAAD8AAABAAAAAQQAAAEIAAABDAAAARAAAAEUAAABGAAAARwAAAEgAAABJAAAASgAAAEsAAABMAAAATQAAAE4AAABPAAAAUAAAAFEAAABSAAAAUwAAAFQAAABVAAAAVgAAAFcAAABYAAAAWQAAAFoAAABbAAAAXAAAAF0AAABeAAAAXwAAAGAAAABhAAAAYgAAAGMAAABkAAAAZQAAAGYAAABnAAAAaAAAAGkAAABqAAAAawAAAGwAAABtAAAAbgAAAG8AAABwAAAAcQAAAHIAAABzAAAAdAAAAHUAAAB2AAAAdwAAAHgAAAB5AAAAegAAAHsAAAB8AAAAfQAAAH4AAAB/AAAAgAAAAIEAAAA=",
          "dtype": "i4"
         },
         "y": {
          "bdata": "1LlVWMsuO0CkkwhP3aw7QHRtu0XvKjxAQ0duPAGpPEASISEzEyc9QOL60yklpT1AstSGIDcjPkCBrjkXSaE+QFCI7A1bHz9AIGKfBG2dP0D4Hal9vw1AQOCKAnnITEBAx/dbdNGLQECvZLVv2spAQJbRDmvjCUFAfj5oZuxIQUBmq8Fh9YdBQE4YG13+xkFANoV0WAcGQkAe8s1TEEVCQAVfJ08ZhEJA7cuASiLDQkDUONpFKwJDQLylM0E0QUNApBKNPD2AQ0CMf+Y3Rr9DQHTsPzNP/kNAXFmZLlg9REBDxvIpYXxEQCszTCVqu0RAEqClIHP6RED6DP8bfDlFQOJ5WBeFeEVAyuaxEo63RUCyUwsOl/ZFQJrAZAmgNUZAgS2+BKl0RkBpmhcAsrNGQFAHcfu68kZAOHTK9sMxR0Ag4SPyzHBHQAhOfe3Vr0dA8LrW6N7uR0DYJzDk5y1IQL+Uid/wbEhApgHj2vmrSECObjzWAutIQHbbldELKklAXkjvzBRpSUBGtUjIHahJQC4iosMm50lAFo/7vi8mSkD8+1S6OGVKQORorrVBpEpAzNUHsUrjSkC0QmGsUyJLQJyvuqdcYUtAhBwUo2WgS0BsiW2ebt9LQFT2xpl3HkxAOmMglYBdTEAi0HmQiZxMQAo904uS20xA8qksh5saTUDaFoaCpFlNQMKD332tmE1AqvA4ebbXTUCSXZJ0vxZOQHjK62/IVU5AYDdFa9GUTkBIpJ5m2tNOQDAR+GHjEk9AGH5RXexRT0AA66pY9ZBPQOhXBFT+z09AaOKup4MHUEDbmFslCCdQQE9PCKOMRlBAwwW1IBFmUEA3vGGelYVQQKtyDhwapVBAHym7mZ7EUECT32cXI+RQQAaWFJWnA1FAekzBEiwjUUDuAm6QsEJRQGK5Gg41YlFA1m/Hi7mBUUBKJnQJPqFRQL7cIIfCwFFAMpPNBEfgUUClSXqCy/9RQBkAJwBQH1JAjbbTfdQ+UkABbYD7WF5SQHUjLXndfVJA6dnZ9mGdUkBdkIZ05rxSQNFGM/Jq3FJARP3fb+/7UkC4s4ztcxtTQCxqOWv4OlNAoCDm6HxaU0AU15JmAXpTQIiNP+SFmVNA/EPsYQq5U0Bw+pjfjthTQOOwRV0T+FNAV2fy2pcXVEDLHZ9YHDdUQA==",
          "dtype": "f8"
         }
        }
       ],
       "layout": {
        "autosize": false,
        "height": 800,
        "template": {
         "data": {
          "bar": [
           {
            "error_x": {
             "color": "#2a3f5f"
            },
            "error_y": {
             "color": "#2a3f5f"
            },
            "marker": {
             "line": {
              "color": "#E5ECF6",
              "width": 0.5
             },
             "pattern": {
              "fillmode": "overlay",
              "size": 10,
              "solidity": 0.2
             }
            },
            "type": "bar"
           }
          ],
          "barpolar": [
           {
            "marker": {
             "line": {
              "color": "#E5ECF6",
              "width": 0.5
             },
             "pattern": {
              "fillmode": "overlay",
              "size": 10,
              "solidity": 0.2
             }
            },
            "type": "barpolar"
           }
          ],
          "carpet": [
           {
            "aaxis": {
             "endlinecolor": "#2a3f5f",
             "gridcolor": "white",
             "linecolor": "white",
             "minorgridcolor": "white",
             "startlinecolor": "#2a3f5f"
            },
            "baxis": {
             "endlinecolor": "#2a3f5f",
             "gridcolor": "white",
             "linecolor": "white",
             "minorgridcolor": "white",
             "startlinecolor": "#2a3f5f"
            },
            "type": "carpet"
           }
          ],
          "choropleth": [
           {
            "colorbar": {
             "outlinewidth": 0,
             "ticks": ""
            },
            "type": "choropleth"
           }
          ],
          "contour": [
           {
            "colorbar": {
             "outlinewidth": 0,
             "ticks": ""
            },
            "colorscale": [
             [
              0,
              "#0d0887"
             ],
             [
              0.1111111111111111,
              "#46039f"
             ],
             [
              0.2222222222222222,
              "#7201a8"
             ],
             [
              0.3333333333333333,
              "#9c179e"
             ],
             [
              0.4444444444444444,
              "#bd3786"
             ],
             [
              0.5555555555555556,
              "#d8576b"
             ],
             [
              0.6666666666666666,
              "#ed7953"
             ],
             [
              0.7777777777777778,
              "#fb9f3a"
             ],
             [
              0.8888888888888888,
              "#fdca26"
             ],
             [
              1,
              "#f0f921"
             ]
            ],
            "type": "contour"
           }
          ],
          "contourcarpet": [
           {
            "colorbar": {
             "outlinewidth": 0,
             "ticks": ""
            },
            "type": "contourcarpet"
           }
          ],
          "heatmap": [
           {
            "colorbar": {
             "outlinewidth": 0,
             "ticks": ""
            },
            "colorscale": [
             [
              0,
              "#0d0887"
             ],
             [
              0.1111111111111111,
              "#46039f"
             ],
             [
              0.2222222222222222,
              "#7201a8"
             ],
             [
              0.3333333333333333,
              "#9c179e"
             ],
             [
              0.4444444444444444,
              "#bd3786"
             ],
             [
              0.5555555555555556,
              "#d8576b"
             ],
             [
              0.6666666666666666,
              "#ed7953"
             ],
             [
              0.7777777777777778,
              "#fb9f3a"
             ],
             [
              0.8888888888888888,
              "#fdca26"
             ],
             [
              1,
              "#f0f921"
             ]
            ],
            "type": "heatmap"
           }
          ],
          "histogram": [
           {
            "marker": {
             "pattern": {
              "fillmode": "overlay",
              "size": 10,
              "solidity": 0.2
             }
            },
            "type": "histogram"
           }
          ],
          "histogram2d": [
           {
            "colorbar": {
             "outlinewidth": 0,
             "ticks": ""
            },
            "colorscale": [
             [
              0,
              "#0d0887"
             ],
             [
              0.1111111111111111,
              "#46039f"
             ],
             [
              0.2222222222222222,
              "#7201a8"
             ],
             [
              0.3333333333333333,
              "#9c179e"
             ],
             [
              0.4444444444444444,
              "#bd3786"
             ],
             [
              0.5555555555555556,
              "#d8576b"
             ],
             [
              0.6666666666666666,
              "#ed7953"
             ],
             [
              0.7777777777777778,
              "#fb9f3a"
             ],
             [
              0.8888888888888888,
              "#fdca26"
             ],
             [
              1,
              "#f0f921"
             ]
            ],
            "type": "histogram2d"
           }
          ],
          "histogram2dcontour": [
           {
            "colorbar": {
             "outlinewidth": 0,
             "ticks": ""
            },
            "colorscale": [
             [
              0,
              "#0d0887"
             ],
             [
              0.1111111111111111,
              "#46039f"
             ],
             [
              0.2222222222222222,
              "#7201a8"
             ],
             [
              0.3333333333333333,
              "#9c179e"
             ],
             [
              0.4444444444444444,
              "#bd3786"
             ],
             [
              0.5555555555555556,
              "#d8576b"
             ],
             [
              0.6666666666666666,
              "#ed7953"
             ],
             [
              0.7777777777777778,
              "#fb9f3a"
             ],
             [
              0.8888888888888888,
              "#fdca26"
             ],
             [
              1,
              "#f0f921"
             ]
            ],
            "type": "histogram2dcontour"
           }
          ],
          "mesh3d": [
           {
            "colorbar": {
             "outlinewidth": 0,
             "ticks": ""
            },
            "type": "mesh3d"
           }
          ],
          "parcoords": [
           {
            "line": {
             "colorbar": {
              "outlinewidth": 0,
              "ticks": ""
             }
            },
            "type": "parcoords"
           }
          ],
          "pie": [
           {
            "automargin": true,
            "type": "pie"
           }
          ],
          "scatter": [
           {
            "fillpattern": {
             "fillmode": "overlay",
             "size": 10,
             "solidity": 0.2
            },
            "type": "scatter"
           }
          ],
          "scatter3d": [
           {
            "line": {
             "colorbar": {
              "outlinewidth": 0,
              "ticks": ""
             }
            },
            "marker": {
             "colorbar": {
              "outlinewidth": 0,
              "ticks": ""
             }
            },
            "type": "scatter3d"
           }
          ],
          "scattercarpet": [
           {
            "marker": {
             "colorbar": {
              "outlinewidth": 0,
              "ticks": ""
             }
            },
            "type": "scattercarpet"
           }
          ],
          "scattergeo": [
           {
            "marker": {
             "colorbar": {
              "outlinewidth": 0,
              "ticks": ""
             }
            },
            "type": "scattergeo"
           }
          ],
          "scattergl": [
           {
            "marker": {
             "colorbar": {
              "outlinewidth": 0,
              "ticks": ""
             }
            },
            "type": "scattergl"
           }
          ],
          "scattermap": [
           {
            "marker": {
             "colorbar": {
              "outlinewidth": 0,
              "ticks": ""
             }
            },
            "type": "scattermap"
           }
          ],
          "scattermapbox": [
           {
            "marker": {
             "colorbar": {
              "outlinewidth": 0,
              "ticks": ""
             }
            },
            "type": "scattermapbox"
           }
          ],
          "scatterpolar": [
           {
            "marker": {
             "colorbar": {
              "outlinewidth": 0,
              "ticks": ""
             }
            },
            "type": "scatterpolar"
           }
          ],
          "scatterpolargl": [
           {
            "marker": {
             "colorbar": {
              "outlinewidth": 0,
              "ticks": ""
             }
            },
            "type": "scatterpolargl"
           }
          ],
          "scatterternary": [
           {
            "marker": {
             "colorbar": {
              "outlinewidth": 0,
              "ticks": ""
             }
            },
            "type": "scatterternary"
           }
          ],
          "surface": [
           {
            "colorbar": {
             "outlinewidth": 0,
             "ticks": ""
            },
            "colorscale": [
             [
              0,
              "#0d0887"
             ],
             [
              0.1111111111111111,
              "#46039f"
             ],
             [
              0.2222222222222222,
              "#7201a8"
             ],
             [
              0.3333333333333333,
              "#9c179e"
             ],
             [
              0.4444444444444444,
              "#bd3786"
             ],
             [
              0.5555555555555556,
              "#d8576b"
             ],
             [
              0.6666666666666666,
              "#ed7953"
             ],
             [
              0.7777777777777778,
              "#fb9f3a"
             ],
             [
              0.8888888888888888,
              "#fdca26"
             ],
             [
              1,
              "#f0f921"
             ]
            ],
            "type": "surface"
           }
          ],
          "table": [
           {
            "cells": {
             "fill": {
              "color": "#EBF0F8"
             },
             "line": {
              "color": "white"
             }
            },
            "header": {
             "fill": {
              "color": "#C8D4E3"
             },
             "line": {
              "color": "white"
             }
            },
            "type": "table"
           }
          ]
         },
         "layout": {
          "annotationdefaults": {
           "arrowcolor": "#2a3f5f",
           "arrowhead": 0,
           "arrowwidth": 1
          },
          "autotypenumbers": "strict",
          "coloraxis": {
           "colorbar": {
            "outlinewidth": 0,
            "ticks": ""
           }
          },
          "colorscale": {
           "diverging": [
            [
             0,
             "#8e0152"
            ],
            [
             0.1,
             "#c51b7d"
            ],
            [
             0.2,
             "#de77ae"
            ],
            [
             0.3,
             "#f1b6da"
            ],
            [
             0.4,
             "#fde0ef"
            ],
            [
             0.5,
             "#f7f7f7"
            ],
            [
             0.6,
             "#e6f5d0"
            ],
            [
             0.7,
             "#b8e186"
            ],
            [
             0.8,
             "#7fbc41"
            ],
            [
             0.9,
             "#4d9221"
            ],
            [
             1,
             "#276419"
            ]
           ],
           "sequential": [
            [
             0,
             "#0d0887"
            ],
            [
             0.1111111111111111,
             "#46039f"
            ],
            [
             0.2222222222222222,
             "#7201a8"
            ],
            [
             0.3333333333333333,
             "#9c179e"
            ],
            [
             0.4444444444444444,
             "#bd3786"
            ],
            [
             0.5555555555555556,
             "#d8576b"
            ],
            [
             0.6666666666666666,
             "#ed7953"
            ],
            [
             0.7777777777777778,
             "#fb9f3a"
            ],
            [
             0.8888888888888888,
             "#fdca26"
            ],
            [
             1,
             "#f0f921"
            ]
           ],
           "sequentialminus": [
            [
             0,
             "#0d0887"
            ],
            [
             0.1111111111111111,
             "#46039f"
            ],
            [
             0.2222222222222222,
             "#7201a8"
            ],
            [
             0.3333333333333333,
             "#9c179e"
            ],
            [
             0.4444444444444444,
             "#bd3786"
            ],
            [
             0.5555555555555556,
             "#d8576b"
            ],
            [
             0.6666666666666666,
             "#ed7953"
            ],
            [
             0.7777777777777778,
             "#fb9f3a"
            ],
            [
             0.8888888888888888,
             "#fdca26"
            ],
            [
             1,
             "#f0f921"
            ]
           ]
          },
          "colorway": [
           "#636efa",
           "#EF553B",
           "#00cc96",
           "#ab63fa",
           "#FFA15A",
           "#19d3f3",
           "#FF6692",
           "#B6E880",
           "#FF97FF",
           "#FECB52"
          ],
          "font": {
           "color": "#2a3f5f"
          },
          "geo": {
           "bgcolor": "white",
           "lakecolor": "white",
           "landcolor": "#E5ECF6",
           "showlakes": true,
           "showland": true,
           "subunitcolor": "white"
          },
          "hoverlabel": {
           "align": "left"
          },
          "hovermode": "closest",
          "mapbox": {
           "style": "light"
          },
          "paper_bgcolor": "white",
          "plot_bgcolor": "#E5ECF6",
          "polar": {
           "angularaxis": {
            "gridcolor": "white",
            "linecolor": "white",
            "ticks": ""
           },
           "bgcolor": "#E5ECF6",
           "radialaxis": {
            "gridcolor": "white",
            "linecolor": "white",
            "ticks": ""
           }
          },
          "scene": {
           "xaxis": {
            "backgroundcolor": "#E5ECF6",
            "gridcolor": "white",
            "gridwidth": 2,
            "linecolor": "white",
            "showbackground": true,
            "ticks": "",
            "zerolinecolor": "white"
           },
           "yaxis": {
            "backgroundcolor": "#E5ECF6",
            "gridcolor": "white",
            "gridwidth": 2,
            "linecolor": "white",
            "showbackground": true,
            "ticks": "",
            "zerolinecolor": "white"
           },
           "zaxis": {
            "backgroundcolor": "#E5ECF6",
            "gridcolor": "white",
            "gridwidth": 2,
            "linecolor": "white",
            "showbackground": true,
            "ticks": "",
            "zerolinecolor": "white"
           }
          },
          "shapedefaults": {
           "line": {
            "color": "#2a3f5f"
           }
          },
          "ternary": {
           "aaxis": {
            "gridcolor": "white",
            "linecolor": "white",
            "ticks": ""
           },
           "baxis": {
            "gridcolor": "white",
            "linecolor": "white",
            "ticks": ""
           },
           "bgcolor": "#E5ECF6",
           "caxis": {
            "gridcolor": "white",
            "linecolor": "white",
            "ticks": ""
           }
          },
          "title": {
           "x": 0.05
          },
          "xaxis": {
           "automargin": true,
           "gridcolor": "white",
           "linecolor": "white",
           "ticks": "",
           "title": {
            "standoff": 15
           },
           "zerolinecolor": "white",
           "zerolinewidth": 2
          },
          "yaxis": {
           "automargin": true,
           "gridcolor": "white",
           "linecolor": "white",
           "ticks": "",
           "title": {
            "standoff": 15
           },
           "zerolinecolor": "white",
           "zerolinewidth": 2
          }
         }
        },
        "width": 900,
        "xaxis": {
         "title": {
          "text": "N"
         }
        },
        "yaxis": {
         "title": {
          "text": "PRT/10"
         }
        }
       }
      }
     },
     "metadata": {},
     "output_type": "display_data"
    }
   ],
   "source": [
    "ixSupTe=np.where(yte==1)[0]\n",
    "ixAvgTe=np.where(yte==2)[0]\n",
    "\n",
    "\n",
    "fig=go.Figure()\n",
    "fig.add_trace(go.Scatter(x=Xte[ixSupTe,0],y=Xte[ixSupTe,1],mode='markers',name='Super'))\n",
    "fig.add_trace(go.Scatter(x=Xte[ixAvgTe,0],y=Xte[ixAvgTe,1],mode='markers',name='Average'))\n",
    "fig.update_traces(marker=dict(size=10))\n",
    "\n",
    "\n",
    "x1=np.arange(20,130,1)\n",
    "\n",
    "x2=-(w[0,0]/w[1,0])*x1-b/w[1,0]\n",
    "fig.add_trace(go.Scatter(x=x1,y=x2.flatten(),\n",
    "                         mode='lines', line=dict(dash='dash',color=\"gray\",width=4),name='Hyperplane'))\n",
    "\n",
    "fig.update_xaxes(title_text='N')\n",
    "fig.update_yaxes(title_text='PRT/10')\n",
    "fig.update_layout(\n",
    "    autosize=False,\n",
    "    width=900,\n",
    "    height=800)\n",
    "fig.show()"
   ]
  },
  {
   "cell_type": "markdown",
   "id": "5df605e4-5ee5-47fd-aced-28bace8ccd61",
   "metadata": {},
   "source": [
    "• Compute the performance on the training and testing sets"
   ]
  },
  {
   "cell_type": "code",
   "execution_count": 33,
   "id": "488ebd47-7176-4e2b-bedc-b8e98f3ffe46",
   "metadata": {},
   "outputs": [
    {
     "name": "stdout",
     "output_type": "stream",
     "text": [
      "-----------Training----------------\n",
      "Sensitivity(%)=97.14285714285714\n",
      "Specificity(%)=85.71428571428571\n",
      "Precision(%)=87.17948717948718\n",
      "F1Score(%)=91.89189189189189\n",
      "Accuracy(%)=91.42857142857143\n",
      "-----------Testing----------------\n",
      "Sensitivity(%)=65.21739130434783\n",
      "Specificity(%)=53.333333333333336\n",
      "Precision(%)=68.18181818181817\n",
      "F1Score(%)=66.66666666666666\n",
      "Accuracy(%)=60.526315789473685\n"
     ]
    }
   ],
   "source": [
    "yptr=np.ones(np.shape(ytr))\n",
    "\n",
    "dx=(w.T@Xtr.T+b).flatten()\n",
    "yptr[dx<0]=2\n",
    "\n",
    "\n",
    "TPTr=np.shape(np.where((ytr[ixSup]==yptr[ixSup]))[0])[0]\n",
    "TNTr=np.shape(np.where((ytr[ixAvg]==yptr[ixAvg]))[0])[0]\n",
    "FPTr=np.shape(np.where((ytr[ixAvg]!=yptr[ixAvg]))[0])[0]\n",
    "FNTr=np.shape(np.where((ytr[ixSup]!=yptr[ixSup]))[0])[0]\n",
    "\n",
    "\n",
    "SSTr=TPTr/(TPTr+FNTr)\n",
    "SPTr=TNTr/(TNTr+FPTr)\n",
    "PRTr=TPTr/(TPTr+FPTr)\n",
    "F1ScoreTr=2*(PRTr*SSTr)/(PRTr+SSTr)\n",
    "ACTr=(TNTr+TPTr)/(TPTr+TNTr+FPTr+FNTr)\n",
    "\n",
    "print(\"-----------Training----------------\")\n",
    "print(\"Sensitivity(%)=\"+str(SSTr*100))\n",
    "print(\"Specificity(%)=\"+str(SPTr*100))\n",
    "print(\"Precision(%)=\"+str(PRTr*100))\n",
    "print(\"F1Score(%)=\"+str(F1ScoreTr*100))\n",
    "print(\"Accuracy(%)=\"+str(ACTr*100))\n",
    "\n",
    "\n",
    "ypte=np.ones(np.shape(yte))\n",
    "dx=(w.T@Xte.T+b).flatten()\n",
    "ypte[dx<0]=2\n",
    "\n",
    "\n",
    "TPTe=np.shape(np.where((yte[ixSupTe]==ypte[ixSupTe]))[0])[0]\n",
    "TNTe=np.shape(np.where((ytr[ixAvgTe]==ypte[ixAvgTe]))[0])[0]\n",
    "FPTe=np.shape(np.where((ytr[ixAvgTe]!=ypte[ixAvgTe]))[0])[0]\n",
    "FNTe=np.shape(np.where((ytr[ixSupTe]!=ypte[ixSupTe]))[0])[0]\n",
    "\n",
    "\n",
    "SSTe=TPTe/(TPTe+FNTe)\n",
    "SPTe=TNTe/(TNTe+FPTe)\n",
    "PRTe=TPTe/(TPTe+FPTe)\n",
    "F1ScoreTe=2*(PRTe*SSTe)/(PRTe+SSTe)\n",
    "ACTe=(TNTe+TPTe)/(TPTe+TNTe+FPTe+FNTe)\n",
    "\n",
    "print(\"-----------Testing----------------\")\n",
    "print(\"Sensitivity(%)=\"+str(SSTe*100))\n",
    "print(\"Specificity(%)=\"+str(SPTe*100))\n",
    "print(\"Precision(%)=\"+str(PRTe*100))\n",
    "print(\"F1Score(%)=\"+str(F1ScoreTe*100))\n",
    "print(\"Accuracy(%)=\"+str(ACTe*100))\n",
    "\n",
    "\n"
   ]
  },
  {
   "cell_type": "code",
   "execution_count": null,
   "id": "a5c80b46-6a22-4c67-90c9-d9b536d75cda",
   "metadata": {},
   "outputs": [],
   "source": []
  }
 ],
 "metadata": {
  "kernelspec": {
   "display_name": "base",
   "language": "python",
   "name": "python3"
  },
  "language_info": {
   "codemirror_mode": {
    "name": "ipython",
    "version": 3
   },
   "file_extension": ".py",
   "mimetype": "text/x-python",
   "name": "python",
   "nbconvert_exporter": "python",
   "pygments_lexer": "ipython3",
   "version": "3.9.12"
  }
 },
 "nbformat": 4,
 "nbformat_minor": 5
}
