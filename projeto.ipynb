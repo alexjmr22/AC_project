{
 "cells": [
  {
   "cell_type": "code",
   "execution_count": 71,
   "id": "b033fac5",
   "metadata": {},
   "outputs": [
    {
     "name": "stdout",
     "output_type": "stream",
     "text": [
      "Tamanho treino:      69\n",
      "Tamanho validação:   23\n",
      "Tamanho teste:       24\n"
     ]
    }
   ],
   "source": [
    "import pandas as pd\n",
    "from sklearn.model_selection import train_test_split\n",
    "\n",
    "file_path = \"dataR2.csv\"\n",
    "df = pd.read_csv(file_path)\n",
    "\n",
    "X = df.drop(columns=[\"Classification\"])  \n",
    "y = df[\"Classification\"]\n",
    "\n",
    "# (80%) de treino e validaçao / (20%) de teste\n",
    "X_train_val, X_test, y_train_val, y_test = train_test_split(X, y, test_size=0.2, random_state=42, stratify=y)\n",
    "\n",
    "# 60% de treino / 20% de validação \n",
    "X_train, X_val, y_train, y_val = train_test_split(X_train_val, y_train_val, test_size=0.25, random_state=42, stratify=y_train_val)\n",
    "\n",
    "print(f\"Tamanho treino:      {len(X_train)}\")\n",
    "print(f\"Tamanho validação:   {len(X_val)}\")\n",
    "print(f\"Tamanho teste:       {len(X_test)}\")\n",
    "\n",
    "X_train.to_csv(\"X_train.csv\", index=False)  \n",
    "\n"
   ]
  },
  {
   "cell_type": "code",
   "execution_count": 72,
   "id": "5fb493ae",
   "metadata": {},
   "outputs": [
    {
     "name": "stdout",
     "output_type": "stream",
     "text": [
      "Feature: Glucose, Kruskal-Wallis H-statistic: 21.882684786313593, p-value: 2.8983742948778834e-06\n",
      "Feature: Insulin, Kruskal-Wallis H-statistic: 6.7897432455439075, p-value: 0.009168309393118787\n",
      "Feature: HOMA, Kruskal-Wallis H-statistic: 10.142517584283269, p-value: 0.0014488814663522185\n",
      "Feature: Resistin, Kruskal-Wallis H-statistic: 4.873490177055544, p-value: 0.027272288979371395\n",
      "kruskal_selected_features: ['Glucose', 'Insulin', 'HOMA', 'Resistin']\n",
      "roc_auc_selected_features: ['Glucose' 'Insulin' 'HOMA' 'Resistin']\n"
     ]
    },
    {
     "data": {
      "application/vnd.plotly.v1+json": {
       "config": {
        "plotlyServerURL": "https://plot.ly"
       },
       "data": [
        {
         "coloraxis": "coloraxis",
         "hovertemplate": "Features: %{x}<br>Features: %{y}<br>Correlação: %{z}<extra></extra>",
         "name": "0",
         "texttemplate": "%{z}",
         "type": "heatmap",
         "x": [
          "Glucose",
          "Insulin",
          "HOMA",
          "Resistin"
         ],
         "xaxis": "x",
         "y": [
          "Glucose",
          "Insulin",
          "HOMA",
          "Resistin"
         ],
         "yaxis": "y",
         "z": [
          [
           1,
           0.5647665959851608,
           0.7416581795079519,
           0.3694363396285937
          ],
          [
           0.5647665959851608,
           1,
           0.9352352429129905,
           0.18880871540234964
          ],
          [
           0.7416581795079519,
           0.9352352429129904,
           0.9999999999999999,
           0.21858087119942038
          ],
          [
           0.3694363396285936,
           0.18880871540234964,
           0.2185808711994204,
           1
          ]
         ]
        }
       ],
       "layout": {
        "coloraxis": {
         "colorbar": {
          "title": {
           "text": "Correlação"
          }
         },
         "colorscale": [
          [
           0,
           "rgb(0, 0, 0)"
          ],
          [
           0.09090909090909091,
           "rgb(16, 16, 16)"
          ],
          [
           0.18181818181818182,
           "rgb(38, 38, 38)"
          ],
          [
           0.2727272727272727,
           "rgb(59, 59, 59)"
          ],
          [
           0.36363636363636365,
           "rgb(81, 80, 80)"
          ],
          [
           0.45454545454545453,
           "rgb(102, 101, 101)"
          ],
          [
           0.5454545454545454,
           "rgb(124, 123, 122)"
          ],
          [
           0.6363636363636364,
           "rgb(146, 146, 145)"
          ],
          [
           0.7272727272727273,
           "rgb(171, 171, 170)"
          ],
          [
           0.8181818181818182,
           "rgb(197, 197, 195)"
          ],
          [
           0.9090909090909091,
           "rgb(224, 224, 223)"
          ],
          [
           1,
           "rgb(254, 254, 253)"
          ]
         ]
        },
        "height": 1000,
        "margin": {
         "t": 60
        },
        "template": {
         "data": {
          "bar": [
           {
            "error_x": {
             "color": "#2a3f5f"
            },
            "error_y": {
             "color": "#2a3f5f"
            },
            "marker": {
             "line": {
              "color": "#E5ECF6",
              "width": 0.5
             },
             "pattern": {
              "fillmode": "overlay",
              "size": 10,
              "solidity": 0.2
             }
            },
            "type": "bar"
           }
          ],
          "barpolar": [
           {
            "marker": {
             "line": {
              "color": "#E5ECF6",
              "width": 0.5
             },
             "pattern": {
              "fillmode": "overlay",
              "size": 10,
              "solidity": 0.2
             }
            },
            "type": "barpolar"
           }
          ],
          "carpet": [
           {
            "aaxis": {
             "endlinecolor": "#2a3f5f",
             "gridcolor": "white",
             "linecolor": "white",
             "minorgridcolor": "white",
             "startlinecolor": "#2a3f5f"
            },
            "baxis": {
             "endlinecolor": "#2a3f5f",
             "gridcolor": "white",
             "linecolor": "white",
             "minorgridcolor": "white",
             "startlinecolor": "#2a3f5f"
            },
            "type": "carpet"
           }
          ],
          "choropleth": [
           {
            "colorbar": {
             "outlinewidth": 0,
             "ticks": ""
            },
            "type": "choropleth"
           }
          ],
          "contour": [
           {
            "colorbar": {
             "outlinewidth": 0,
             "ticks": ""
            },
            "colorscale": [
             [
              0,
              "#0d0887"
             ],
             [
              0.1111111111111111,
              "#46039f"
             ],
             [
              0.2222222222222222,
              "#7201a8"
             ],
             [
              0.3333333333333333,
              "#9c179e"
             ],
             [
              0.4444444444444444,
              "#bd3786"
             ],
             [
              0.5555555555555556,
              "#d8576b"
             ],
             [
              0.6666666666666666,
              "#ed7953"
             ],
             [
              0.7777777777777778,
              "#fb9f3a"
             ],
             [
              0.8888888888888888,
              "#fdca26"
             ],
             [
              1,
              "#f0f921"
             ]
            ],
            "type": "contour"
           }
          ],
          "contourcarpet": [
           {
            "colorbar": {
             "outlinewidth": 0,
             "ticks": ""
            },
            "type": "contourcarpet"
           }
          ],
          "heatmap": [
           {
            "colorbar": {
             "outlinewidth": 0,
             "ticks": ""
            },
            "colorscale": [
             [
              0,
              "#0d0887"
             ],
             [
              0.1111111111111111,
              "#46039f"
             ],
             [
              0.2222222222222222,
              "#7201a8"
             ],
             [
              0.3333333333333333,
              "#9c179e"
             ],
             [
              0.4444444444444444,
              "#bd3786"
             ],
             [
              0.5555555555555556,
              "#d8576b"
             ],
             [
              0.6666666666666666,
              "#ed7953"
             ],
             [
              0.7777777777777778,
              "#fb9f3a"
             ],
             [
              0.8888888888888888,
              "#fdca26"
             ],
             [
              1,
              "#f0f921"
             ]
            ],
            "type": "heatmap"
           }
          ],
          "heatmapgl": [
           {
            "colorbar": {
             "outlinewidth": 0,
             "ticks": ""
            },
            "colorscale": [
             [
              0,
              "#0d0887"
             ],
             [
              0.1111111111111111,
              "#46039f"
             ],
             [
              0.2222222222222222,
              "#7201a8"
             ],
             [
              0.3333333333333333,
              "#9c179e"
             ],
             [
              0.4444444444444444,
              "#bd3786"
             ],
             [
              0.5555555555555556,
              "#d8576b"
             ],
             [
              0.6666666666666666,
              "#ed7953"
             ],
             [
              0.7777777777777778,
              "#fb9f3a"
             ],
             [
              0.8888888888888888,
              "#fdca26"
             ],
             [
              1,
              "#f0f921"
             ]
            ],
            "type": "heatmapgl"
           }
          ],
          "histogram": [
           {
            "marker": {
             "pattern": {
              "fillmode": "overlay",
              "size": 10,
              "solidity": 0.2
             }
            },
            "type": "histogram"
           }
          ],
          "histogram2d": [
           {
            "colorbar": {
             "outlinewidth": 0,
             "ticks": ""
            },
            "colorscale": [
             [
              0,
              "#0d0887"
             ],
             [
              0.1111111111111111,
              "#46039f"
             ],
             [
              0.2222222222222222,
              "#7201a8"
             ],
             [
              0.3333333333333333,
              "#9c179e"
             ],
             [
              0.4444444444444444,
              "#bd3786"
             ],
             [
              0.5555555555555556,
              "#d8576b"
             ],
             [
              0.6666666666666666,
              "#ed7953"
             ],
             [
              0.7777777777777778,
              "#fb9f3a"
             ],
             [
              0.8888888888888888,
              "#fdca26"
             ],
             [
              1,
              "#f0f921"
             ]
            ],
            "type": "histogram2d"
           }
          ],
          "histogram2dcontour": [
           {
            "colorbar": {
             "outlinewidth": 0,
             "ticks": ""
            },
            "colorscale": [
             [
              0,
              "#0d0887"
             ],
             [
              0.1111111111111111,
              "#46039f"
             ],
             [
              0.2222222222222222,
              "#7201a8"
             ],
             [
              0.3333333333333333,
              "#9c179e"
             ],
             [
              0.4444444444444444,
              "#bd3786"
             ],
             [
              0.5555555555555556,
              "#d8576b"
             ],
             [
              0.6666666666666666,
              "#ed7953"
             ],
             [
              0.7777777777777778,
              "#fb9f3a"
             ],
             [
              0.8888888888888888,
              "#fdca26"
             ],
             [
              1,
              "#f0f921"
             ]
            ],
            "type": "histogram2dcontour"
           }
          ],
          "mesh3d": [
           {
            "colorbar": {
             "outlinewidth": 0,
             "ticks": ""
            },
            "type": "mesh3d"
           }
          ],
          "parcoords": [
           {
            "line": {
             "colorbar": {
              "outlinewidth": 0,
              "ticks": ""
             }
            },
            "type": "parcoords"
           }
          ],
          "pie": [
           {
            "automargin": true,
            "type": "pie"
           }
          ],
          "scatter": [
           {
            "marker": {
             "colorbar": {
              "outlinewidth": 0,
              "ticks": ""
             }
            },
            "type": "scatter"
           }
          ],
          "scatter3d": [
           {
            "line": {
             "colorbar": {
              "outlinewidth": 0,
              "ticks": ""
             }
            },
            "marker": {
             "colorbar": {
              "outlinewidth": 0,
              "ticks": ""
             }
            },
            "type": "scatter3d"
           }
          ],
          "scattercarpet": [
           {
            "marker": {
             "colorbar": {
              "outlinewidth": 0,
              "ticks": ""
             }
            },
            "type": "scattercarpet"
           }
          ],
          "scattergeo": [
           {
            "marker": {
             "colorbar": {
              "outlinewidth": 0,
              "ticks": ""
             }
            },
            "type": "scattergeo"
           }
          ],
          "scattergl": [
           {
            "marker": {
             "colorbar": {
              "outlinewidth": 0,
              "ticks": ""
             }
            },
            "type": "scattergl"
           }
          ],
          "scattermapbox": [
           {
            "marker": {
             "colorbar": {
              "outlinewidth": 0,
              "ticks": ""
             }
            },
            "type": "scattermapbox"
           }
          ],
          "scatterpolar": [
           {
            "marker": {
             "colorbar": {
              "outlinewidth": 0,
              "ticks": ""
             }
            },
            "type": "scatterpolar"
           }
          ],
          "scatterpolargl": [
           {
            "marker": {
             "colorbar": {
              "outlinewidth": 0,
              "ticks": ""
             }
            },
            "type": "scatterpolargl"
           }
          ],
          "scatterternary": [
           {
            "marker": {
             "colorbar": {
              "outlinewidth": 0,
              "ticks": ""
             }
            },
            "type": "scatterternary"
           }
          ],
          "surface": [
           {
            "colorbar": {
             "outlinewidth": 0,
             "ticks": ""
            },
            "colorscale": [
             [
              0,
              "#0d0887"
             ],
             [
              0.1111111111111111,
              "#46039f"
             ],
             [
              0.2222222222222222,
              "#7201a8"
             ],
             [
              0.3333333333333333,
              "#9c179e"
             ],
             [
              0.4444444444444444,
              "#bd3786"
             ],
             [
              0.5555555555555556,
              "#d8576b"
             ],
             [
              0.6666666666666666,
              "#ed7953"
             ],
             [
              0.7777777777777778,
              "#fb9f3a"
             ],
             [
              0.8888888888888888,
              "#fdca26"
             ],
             [
              1,
              "#f0f921"
             ]
            ],
            "type": "surface"
           }
          ],
          "table": [
           {
            "cells": {
             "fill": {
              "color": "#EBF0F8"
             },
             "line": {
              "color": "white"
             }
            },
            "header": {
             "fill": {
              "color": "#C8D4E3"
             },
             "line": {
              "color": "white"
             }
            },
            "type": "table"
           }
          ]
         },
         "layout": {
          "annotationdefaults": {
           "arrowcolor": "#2a3f5f",
           "arrowhead": 0,
           "arrowwidth": 1
          },
          "autotypenumbers": "strict",
          "coloraxis": {
           "colorbar": {
            "outlinewidth": 0,
            "ticks": ""
           }
          },
          "colorscale": {
           "diverging": [
            [
             0,
             "#8e0152"
            ],
            [
             0.1,
             "#c51b7d"
            ],
            [
             0.2,
             "#de77ae"
            ],
            [
             0.3,
             "#f1b6da"
            ],
            [
             0.4,
             "#fde0ef"
            ],
            [
             0.5,
             "#f7f7f7"
            ],
            [
             0.6,
             "#e6f5d0"
            ],
            [
             0.7,
             "#b8e186"
            ],
            [
             0.8,
             "#7fbc41"
            ],
            [
             0.9,
             "#4d9221"
            ],
            [
             1,
             "#276419"
            ]
           ],
           "sequential": [
            [
             0,
             "#0d0887"
            ],
            [
             0.1111111111111111,
             "#46039f"
            ],
            [
             0.2222222222222222,
             "#7201a8"
            ],
            [
             0.3333333333333333,
             "#9c179e"
            ],
            [
             0.4444444444444444,
             "#bd3786"
            ],
            [
             0.5555555555555556,
             "#d8576b"
            ],
            [
             0.6666666666666666,
             "#ed7953"
            ],
            [
             0.7777777777777778,
             "#fb9f3a"
            ],
            [
             0.8888888888888888,
             "#fdca26"
            ],
            [
             1,
             "#f0f921"
            ]
           ],
           "sequentialminus": [
            [
             0,
             "#0d0887"
            ],
            [
             0.1111111111111111,
             "#46039f"
            ],
            [
             0.2222222222222222,
             "#7201a8"
            ],
            [
             0.3333333333333333,
             "#9c179e"
            ],
            [
             0.4444444444444444,
             "#bd3786"
            ],
            [
             0.5555555555555556,
             "#d8576b"
            ],
            [
             0.6666666666666666,
             "#ed7953"
            ],
            [
             0.7777777777777778,
             "#fb9f3a"
            ],
            [
             0.8888888888888888,
             "#fdca26"
            ],
            [
             1,
             "#f0f921"
            ]
           ]
          },
          "colorway": [
           "#636efa",
           "#EF553B",
           "#00cc96",
           "#ab63fa",
           "#FFA15A",
           "#19d3f3",
           "#FF6692",
           "#B6E880",
           "#FF97FF",
           "#FECB52"
          ],
          "font": {
           "color": "#2a3f5f"
          },
          "geo": {
           "bgcolor": "white",
           "lakecolor": "white",
           "landcolor": "#E5ECF6",
           "showlakes": true,
           "showland": true,
           "subunitcolor": "white"
          },
          "hoverlabel": {
           "align": "left"
          },
          "hovermode": "closest",
          "mapbox": {
           "style": "light"
          },
          "paper_bgcolor": "white",
          "plot_bgcolor": "#E5ECF6",
          "polar": {
           "angularaxis": {
            "gridcolor": "white",
            "linecolor": "white",
            "ticks": ""
           },
           "bgcolor": "#E5ECF6",
           "radialaxis": {
            "gridcolor": "white",
            "linecolor": "white",
            "ticks": ""
           }
          },
          "scene": {
           "xaxis": {
            "backgroundcolor": "#E5ECF6",
            "gridcolor": "white",
            "gridwidth": 2,
            "linecolor": "white",
            "showbackground": true,
            "ticks": "",
            "zerolinecolor": "white"
           },
           "yaxis": {
            "backgroundcolor": "#E5ECF6",
            "gridcolor": "white",
            "gridwidth": 2,
            "linecolor": "white",
            "showbackground": true,
            "ticks": "",
            "zerolinecolor": "white"
           },
           "zaxis": {
            "backgroundcolor": "#E5ECF6",
            "gridcolor": "white",
            "gridwidth": 2,
            "linecolor": "white",
            "showbackground": true,
            "ticks": "",
            "zerolinecolor": "white"
           }
          },
          "shapedefaults": {
           "line": {
            "color": "#2a3f5f"
           }
          },
          "ternary": {
           "aaxis": {
            "gridcolor": "white",
            "linecolor": "white",
            "ticks": ""
           },
           "baxis": {
            "gridcolor": "white",
            "linecolor": "white",
            "ticks": ""
           },
           "bgcolor": "#E5ECF6",
           "caxis": {
            "gridcolor": "white",
            "linecolor": "white",
            "ticks": ""
           }
          },
          "title": {
           "x": 0.05
          },
          "xaxis": {
           "automargin": true,
           "gridcolor": "white",
           "linecolor": "white",
           "ticks": "",
           "title": {
            "standoff": 15
           },
           "zerolinecolor": "white",
           "zerolinewidth": 2
          },
          "yaxis": {
           "automargin": true,
           "gridcolor": "white",
           "linecolor": "white",
           "ticks": "",
           "title": {
            "standoff": 15
           },
           "zerolinecolor": "white",
           "zerolinewidth": 2
          }
         }
        },
        "title": {
         "text": "Matriz de Correlação entre TODAS as Features (Treino)"
        },
        "width": 1000,
        "xaxis": {
         "anchor": "y",
         "constrain": "domain",
         "domain": [
          0,
          1
         ],
         "scaleanchor": "y",
         "title": {
          "text": "Features"
         }
        },
        "yaxis": {
         "anchor": "x",
         "autorange": "reversed",
         "constrain": "domain",
         "domain": [
          0,
          1
         ],
         "title": {
          "text": "Features"
         }
        }
       }
      }
     },
     "metadata": {},
     "output_type": "display_data"
    }
   ],
   "source": [
    "import pandas as pd\n",
    "import numpy as np\n",
    "from scipy.stats import kruskal\n",
    "\n",
    "#--------------------------feature selection --------------------------\n",
    "#Kruskal-Wallis\n",
    "kruskal_selected_features = []\n",
    "p_values = {}\n",
    "classes = np.unique(y_train)\n",
    "for feature in X_train.columns:\n",
    "    groups = []\n",
    "    for have_c in classes:\n",
    "        groups.append(X_train.loc[y_train == have_c, feature]) #faz uma lista dependendo do valor do classification\n",
    "\n",
    "    stat, p = kruskal(*groups) #stat fica com o valor H e p fica com o p-value\n",
    "    p_values[feature] = p\n",
    "    \n",
    "    # Selecionar features com diferença estatisticamente significativa  (5% significance level)\n",
    "    if p < 0.05:\n",
    "        kruskal_selected_features.append(feature)\n",
    "        print(f\"Feature: {feature}, Kruskal-Wallis H-statistic: {stat}, p-value: {p}\")\n",
    "\n",
    "\n",
    "print(\"kruskal_selected_features:\", kruskal_selected_features)\n",
    "\n",
    "\n",
    "# Reduzir datasets apenas às features selecionadas pelo Kruskal-Wallis\n",
    "X_krus_train_sel = X_train[kruskal_selected_features]\n",
    "X_krus_val_sel = X_val[kruskal_selected_features]\n",
    "X_krus_test_sel = X_test[kruskal_selected_features]\n",
    "\n",
    "\n",
    "\n",
    "\n",
    "# ROC-AUC\n",
    "import plotly.graph_objects as go\n",
    "from sklearn.metrics import roc_curve, auc\n",
    "\n",
    "# --- prepara dados (y_train e X_train já definidos) ---\n",
    "classes = np.unique(y_train)\n",
    "pos_label = classes[-1]   # define a classe positiva como a de maior valor (ex: 1 ou 2)\n",
    "\n",
    "fnames = np.array(X_train.columns)\n",
    "roc_auc = np.zeros(fnames.shape)\n",
    "\n",
    "# --- calcular curvas ROC e AUC para cada feature ---\n",
    "i = 0\n",
    "for f in fnames:\n",
    "    x_feat = X_train[f].to_numpy().astype(float)\n",
    "    y_true = y_train.to_numpy()\n",
    "\n",
    "    # curva ROC + AUC\n",
    "    fpr, tpr, _ = roc_curve(y_true, x_feat, pos_label=pos_label)\n",
    "    a = auc(fpr, tpr)\n",
    "    if a < 0.5:\n",
    "        a = 1 - a  # inverter direção se necessário\n",
    "    roc_auc[i] = a\n",
    "\n",
    "    # # --- plot -> utilizar este codigo para relatorio  ---\n",
    "    # figR = go.Figure()\n",
    "    # figR.add_scatter(x=fpr, y=tpr, mode='lines+markers')\n",
    "    # figR.update_layout(autosize=False, width=700, height=700, title=dict(text=f))\n",
    "    # figR.update_xaxes(title_text=\"1 - Specificidade (FPR)\", range=[-0.01, 1.01])\n",
    "    # figR.update_yaxes(title_text=\"Sensibilidade (TPR)\", range=[-0.01, 1.01])\n",
    "    # figR.add_annotation(x=0.5, y=0.5, text=f\"AUC: {a:.3f}\", showarrow=False, yshift=10)\n",
    "    # figR.show()\n",
    "    i += 1\n",
    "\n",
    "\n",
    "\n",
    "# --- selecionar features com AUC acima do limiar (ex: 0.60) ---\n",
    "roc_auc_selected_features = fnames[roc_auc > 0.60]\n",
    "print(\"roc_auc_selected_features:\", roc_auc_selected_features)\n",
    "\n",
    "# --- reduzir os datasets ---\n",
    "X_auc_train_sel = X_train[roc_auc_selected_features]\n",
    "X_auc_val_sel   = X_val[roc_auc_selected_features]\n",
    "X_auc_test_sel  = X_test[roc_auc_selected_features]\n",
    "\n",
    "\n",
    "# Matriz de Correlação entre todas as features (treino)\n",
    "import plotly.express as px\n",
    "\n",
    "X = X_train[kruskal_selected_features].to_numpy().T\n",
    "corrMat = np.corrcoef(X)\n",
    "eatures = X_train[kruskal_selected_features].columns.tolist()\n",
    "fig = px.imshow(\n",
    "    corrMat,\n",
    "    text_auto=True,\n",
    "    labels=dict(x=\"Features\", y=\"Features\", color=\"Correlação\"),\n",
    "    x=eatures,\n",
    "    y=eatures,\n",
    "    width=1000,\n",
    "    height=1000,\n",
    "    color_continuous_scale=px.colors.sequential.gray\n",
    ")\n",
    "fig.update_layout(title=\"Matriz de Correlação entre TODAS as Features (Treino)\")\n",
    "fig.show()\n"
   ]
  },
  {
   "cell_type": "code",
   "execution_count": 73,
   "id": "d1358951",
   "metadata": {},
   "outputs": [
    {
     "name": "stdout",
     "output_type": "stream",
     "text": [
      "kruskal_selected_features after removing Insulin: ['Glucose', 'HOMA', 'Resistin']\n"
     ]
    }
   ],
   "source": [
    "#Removemos a insulina pq tem alta correlaçao com a homa mas tem um p-value mais alto \n",
    "kruskal_selected_features.remove('Insulin')\n",
    "print(\"kruskal_selected_features after removing Insulin:\", kruskal_selected_features)\n"
   ]
  },
  {
   "cell_type": "code",
   "execution_count": null,
   "id": "3a2f256f",
   "metadata": {},
   "outputs": [
    {
     "name": "stdout",
     "output_type": "stream",
     "text": [
      "Eigenvalues / Explained Variance:\n",
      "[1.02681235e+02 8.18764703e-01 4.18258444e-31]\n",
      "Sum of eigenvalues: 103.5\n",
      "Eigenvectors / Principal Components:\n",
      "[[ 1.20757077e-01  5.71515457e-02  7.97354319e-01]\n",
      " [ 1.20853683e-01 -1.84148882e-02 -5.41058986e-02]\n",
      " [ 1.20496083e-01  1.05654273e-01  6.37681468e-02]\n",
      " [ 1.20859764e-01  1.24401020e-02 -1.23852672e-01]\n",
      " [ 1.20259196e-01  1.35333585e-01  6.13821004e-03]\n",
      " [ 1.20439924e-01 -1.13400693e-01 -6.98845224e-02]\n",
      " [ 1.20692155e-01 -7.23336442e-02  1.44777146e-02]\n",
      " [ 1.19889389e-01 -1.71617741e-01 -7.76153251e-03]\n",
      " [ 1.20599245e-01  8.96863024e-02 -8.31862400e-03]\n",
      " [ 1.20863159e-01  7.20058002e-03  1.61816937e-02]\n",
      " [ 1.20820243e-01 -3.67780705e-02 -5.96510639e-02]\n",
      " [ 1.20791142e-01 -4.72692769e-02  7.91298433e-02]\n",
      " [ 1.20672691e-01 -7.62976253e-02  5.18808164e-03]\n",
      " [ 1.20795857e-01  4.57332352e-02 -1.19020414e-01]\n",
      " [ 1.20731820e-01  6.34917635e-02  8.91125205e-02]\n",
      " [ 1.20628266e-01  8.46503649e-02 -4.39945360e-02]\n",
      " [ 1.20813240e-01 -3.95580686e-02  1.00653759e-02]\n",
      " [ 1.20511748e-01 -1.03389277e-01  7.16340524e-02]\n",
      " [ 1.20862707e-01  8.09644267e-03  1.62978837e-02]\n",
      " [ 1.20648840e-01 -8.08897932e-02 -6.55089088e-02]\n",
      " [ 1.20650180e-01 -8.06386980e-02  4.60762229e-03]\n",
      " [ 1.20748914e-01 -5.92750263e-02 -1.32710134e-01]\n",
      " [ 1.20735968e-01 -6.24948172e-02 -5.42947198e-02]\n",
      " [ 1.19933276e-01  1.67728091e-01 -1.61600009e-02]\n",
      " [ 1.20764430e-01 -5.51686010e-02 -6.20821996e-02]\n",
      " [ 1.20851859e-01 -1.98597162e-02  1.26544588e-02]\n",
      " [ 1.20247118e-01  1.36672888e-01 -1.12168696e-02]\n",
      " [ 1.20278179e-01 -1.33201119e-01 -7.25738057e-02]\n",
      " [ 1.20486117e-01 -1.07070154e-01  7.98976160e-02]\n",
      " [ 1.20479983e-01  1.07932198e-01  5.52926644e-02]\n",
      " [ 1.20861122e-01 -1.06586777e-02 -5.51302677e-02]\n",
      " [ 1.20856785e-01 -1.56544450e-02  1.32048428e-02]\n",
      " [ 1.20302932e-01 -1.30367528e-01 -6.34274484e-02]\n",
      " [ 1.20318590e-01  1.28542678e-01 -4.72652293e-02]\n",
      " [ 1.20463018e-01 -1.10281448e-01  9.38074284e-03]\n",
      " [ 1.20118256e-01  1.50212877e-01 -7.86570248e-04]\n",
      " [ 1.20145271e-01 -1.47478557e-01 -7.45244530e-02]\n",
      " [ 1.20854350e-01  1.78572381e-02 -5.25215304e-02]\n",
      " [ 1.20784582e-01 -4.93267722e-02  8.77470038e-03]\n",
      " [ 1.20646858e-01  8.12595772e-02  9.57434682e-02]\n",
      " [ 1.20814669e-01 -3.90066538e-02  1.54684140e-01]\n",
      " [ 1.20520390e-01 -1.02118129e-01  1.72254019e-03]\n",
      " [ 1.20848915e-01  2.19919486e-02 -5.19876389e-02]\n",
      " [ 1.20351107e-01 -1.24666628e-01 -1.41495317e-01]\n",
      " [ 1.20716599e-01 -6.70232356e-02  8.52685325e-02]\n",
      " [ 1.20793985e-01  4.63493082e-02 -1.18941614e-01]\n",
      " [ 1.20855204e-01 -1.71171985e-02  1.55369442e-01]\n",
      " [ 1.20277046e-01 -1.33329305e-01 -7.25912762e-02]\n",
      " [ 1.19268952e-01  2.19228951e-01 -1.32576322e-01]\n",
      " [ 1.20466734e-01 -1.09771270e-01  7.95326451e-02]\n",
      " [ 1.20798496e-01  4.48505205e-02 -1.19133350e-01]\n",
      " [ 1.20573658e-01  9.39016604e-02  5.35340925e-02]\n",
      " [ 1.20224918e-01  1.39100595e-01 -2.15644736e-03]\n",
      " [ 1.20863237e-01 -7.03439072e-03 -1.25835402e-01]\n",
      " [ 1.20832755e-01 -3.11999349e-02  1.55463320e-02]\n",
      " [ 1.20726039e-01 -6.48558573e-02  7.67967036e-02]\n",
      " [ 1.19902945e-01 -1.70425963e-01  6.24859604e-02]\n",
      " [ 1.19843295e-01  1.75608818e-01  5.48843107e-02]\n",
      " [ 1.20864811e-01  1.33216020e-03  1.54196577e-02]\n",
      " [ 1.20844104e-01 -2.50889127e-02  1.19689146e-02]\n",
      " [ 1.20572799e-01  9.40399256e-02  2.72703691e-02]\n",
      " [ 1.19862219e-01  1.73981556e-01 -1.55562747e-01]\n",
      " [ 1.08150814e-01  6.04283385e-01 -5.53068912e-02]\n",
      " [ 1.20762188e-01  5.57808174e-02 -5.20347260e-02]\n",
      " [ 1.20505756e-01 -1.04261517e-01  1.43345583e-03]\n",
      " [ 1.20776630e-01  5.17109592e-02  1.75291045e-02]\n",
      " [ 1.20263317e-01 -1.34873561e-01 -1.42884733e-01]\n",
      " [ 1.20544656e-01 -9.84607806e-02  8.10586137e-02]\n",
      " [ 1.20623999e-01 -8.54094935e-02  1.27290516e-02]]\n"
     ]
    },
    {
     "data": {
      "image/png": "[encoded data removed]",
      "text/plain": [
       "<Figure size 432x288 with 1 Axes>"
      ]
     },
     "metadata": {
      "needs_background": "light"
     },
     "output_type": "display_data"
    }
   ],
   "source": [
    "# --------------------dimensionality reduction --------------\n",
    "X = X_train[kruskal_selected_features].to_numpy().T\n",
    "\n",
    "import matplotlib.pyplot as plt\n",
    "from sklearn.decomposition import PCA\n",
    "from sklearn.preprocessing import StandardScaler\n",
    "\n",
    "# Estandardizar (importante no PCA)\n",
    "X_std = StandardScaler().fit_transform(X)\n",
    "\n",
    "# Ajustar PCA\n",
    "pca = PCA()\n",
    "pca.fit(X_std)\n",
    "\n",
    "# Variância explicada\n",
    "print(\"Eigenvalues / Explained Variance:\")\n",
    "print(pca.explained_variance_)\n",
    "print(\"Sum of eigenvalues:\", np.sum(pca.explained_variance_))\n",
    "\n",
    "# Componentes principais (autovetores)\n",
    "print(\"Eigenvectors / Principal Components:\")\n",
    "print(pca.components_.T)\n",
    "\n",
    "# Scree plot\n",
    "plt.plot(np.cumsum(pca.explained_variance_ratio_))\n",
    "plt.xlabel(\"Número de Componentes\")\n",
    "plt.ylabel(\"Variância Explicada Acumulada\")\n",
    "plt.title(\"Scree Plot - PCA\")\n",
    "plt.grid(True)\n",
    "plt.show()\n"
   ]
  }
 ],
 "metadata": {
  "kernelspec": {
   "display_name": "base",
   "language": "python",
   "name": "python3"
  },
  "language_info": {
   "codemirror_mode": {
    "name": "ipython",
    "version": 3
   },
   "file_extension": ".py",
   "mimetype": "text/x-python",
   "name": "python",
   "nbconvert_exporter": "python",
   "pygments_lexer": "ipython3",
   "version": "3.9.12"
  }
 },
 "nbformat": 4,
 "nbformat_minor": 5
}
