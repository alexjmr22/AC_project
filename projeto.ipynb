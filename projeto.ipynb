{
 "cells": [
  {
   "cell_type": "code",
   "execution_count": null,
   "id": "b033fac5",
   "metadata": {},
   "outputs": [
    {
     "name": "stdout",
     "output_type": "stream",
     "text": [
      "Tamanho treino: 69\n",
      "Tamanho validação: 23\n",
      "Tamanho teste: 24\n"
     ]
    }
   ],
   "source": [
    "# 3.6.1 – Data Partitioning\n",
    "# ------------------------\n",
    "# Estratégia: three-set validation (Train / Validation / Test)\n",
    "#   - 80% para treino+validação\n",
    "#   - 20% para teste (mantido independente)\n",
    "#   - Dentro dos 80%: 75% treino e 25% validação\n",
    "#     → no total: 60% treino, 20% validação, 20% teste\n",
    "\n",
    "import pandas as pd\n",
    "from sklearn.model_selection import train_test_split\n",
    "\n",
    "# Carregar dataset\n",
    "file_path = \"dataR2.csv\"\n",
    "df = pd.read_csv(file_path)\n",
    "\n",
    "# Separar features (X) e rótulo (y)\n",
    "X = df.drop(columns=[\"Classification\"])  # alterar se o nome da coluna-alvo for diferente\n",
    "y = df[\"Classification\"]\n",
    "\n",
    "# 1️⃣ Hold-Out inicial → treino+validação (80%) / teste (20%)\n",
    "X_train_val, X_test, y_train_val, y_test = train_test_split(X, y, test_size=0.2, random_state=42, stratify=y)\n",
    "\n",
    "# 2️⃣ Segunda divisão → treino (75% de 80%) / validação (25% de 80%)\n",
    "X_train, X_val, y_train, y_val = train_test_split(X_train_val, y_train_val, test_size=0.25, random_state=42, stratify=y_train_val)\n",
    "\n",
    "print(f\"Tamanho treino:      {len(X_train)}\")\n",
    "print(f\"Tamanho validação:   {len(X_val)}\")\n",
    "print(f\"Tamanho teste:       {len(X_test)}\")\n"
   ]
  }
 ],
 "metadata": {
  "kernelspec": {
   "display_name": "base",
   "language": "python",
   "name": "python3"
  },
  "language_info": {
   "codemirror_mode": {
    "name": "ipython",
    "version": 3
   },
   "file_extension": ".py",
   "mimetype": "text/x-python",
   "name": "python",
   "nbconvert_exporter": "python",
   "pygments_lexer": "ipython3",
   "version": "3.9.12"
  }
 },
 "nbformat": 4,
 "nbformat_minor": 5
}
