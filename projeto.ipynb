{
 "cells": [
  {
   "cell_type": "code",
   "execution_count": 15,
   "id": "b033fac5",
   "metadata": {},
   "outputs": [
    {
     "name": "stdout",
     "output_type": "stream",
     "text": [
      "Tamanho treino:      69\n",
      "Tamanho validação:   23\n",
      "Tamanho teste:       24\n"
     ]
    }
   ],
   "source": [
    "import pandas as pd\n",
    "from sklearn.model_selection import train_test_split\n",
    "\n",
    "file_path = \"dataR2.csv\"\n",
    "df = pd.read_csv(file_path)\n",
    "\n",
    "X = df.drop(columns=[\"Classification\"])  \n",
    "y = df[\"Classification\"]\n",
    "\n",
    "# (80%) de treino e validaçao / (20%) de teste\n",
    "X_train_val, X_test, y_train_val, y_test = train_test_split(X, y, test_size=0.2, random_state=42, stratify=y)\n",
    "\n",
    "# 60% de treino / 20% de validação \n",
    "X_train, X_val, y_train, y_val = train_test_split(X_train_val, y_train_val, test_size=0.25, random_state=42, stratify=y_train_val)\n",
    "\n",
    "print(f\"Tamanho treino:      {len(X_train)}\")\n",
    "print(f\"Tamanho validação:   {len(X_val)}\")\n",
    "print(f\"Tamanho teste:       {len(X_test)}\")\n",
    "\n",
    "X_train.to_csv(\"X_train.csv\", index=False)  \n",
    "\n"
   ]
  },
  {
   "cell_type": "code",
   "execution_count": null,
   "id": "5fb493ae",
   "metadata": {},
   "outputs": [
    {
     "name": "stdout",
     "output_type": "stream",
     "text": [
      "Feature: Glucose, Kruskal-Wallis H-statistic: 21.882684786313593, p-value: 2.8983742948778834e-06\n",
      "Feature: Insulin, Kruskal-Wallis H-statistic: 6.7897432455439075, p-value: 0.009168309393118787\n",
      "Feature: HOMA, Kruskal-Wallis H-statistic: 10.142517584283269, p-value: 0.0014488814663522185\n",
      "Feature: Resistin, Kruskal-Wallis H-statistic: 4.873490177055544, p-value: 0.02727228897937139\n",
      "kruskal_selected_features: ['Glucose', 'Insulin', 'HOMA', 'Resistin']\n",
      "roc_auc_selected_features: ['Glucose' 'Insulin' 'HOMA' 'Resistin']\n"
     ]
    },
    {
     "data": {
      "application/vnd.plotly.v1+json": {
       "config": {
        "plotlyServerURL": "https://plot.ly"
       },
       "data": [
        {
         "coloraxis": "coloraxis",
         "hovertemplate": "Features: %{x}<br>Features: %{y}<br>Correlação: %{z}<extra></extra>",
         "name": "0",
         "texttemplate": "%{z}",
         "type": "heatmap",
         "x": [
          "Age",
          "BMI",
          "Glucose",
          "Insulin",
          "HOMA",
          "Leptin",
          "Adiponectin",
          "Resistin",
          "MCP.1"
         ],
         "xaxis": "x",
         "y": [
          "Age",
          "BMI",
          "Glucose",
          "Insulin",
          "HOMA",
          "Leptin",
          "Adiponectin",
          "Resistin",
          "MCP.1"
         ],
         "yaxis": "y",
         "z": [
          [
           0.9999999999999998,
           0.019202818938189314,
           0.14471651350302236,
           0.07485576266072713,
           0.1367660644090395,
           0.0749900719458014,
           -0.2077727472988889,
           -0.11064747453867202,
           0.04409002761403944
          ],
          [
           0.01920281893818931,
           1,
           0.1034216675002162,
           0.226764410762154,
           0.16675884779289976,
           0.5682357647098963,
           -0.4278984523753067,
           0.24199158343500102,
           0.24364470253419881
          ],
          [
           0.1447165135030224,
           0.1034216675002162,
           1,
           0.5647665959851608,
           0.7416581795079519,
           0.270229571568817,
           -0.14202576041181936,
           0.3694363396285937,
           0.3810871364562224
          ],
          [
           0.07485576266072715,
           0.226764410762154,
           0.5647665959851608,
           1,
           0.9352352429129905,
           0.3905894333810023,
           -0.13158199065736295,
           0.18880871540234964,
           0.3002395389770408
          ],
          [
           0.13676606440903946,
           0.16675884779289976,
           0.7416581795079519,
           0.9352352429129904,
           0.9999999999999999,
           0.36319297992925664,
           -0.1324905677318435,
           0.21858087119942038,
           0.38171877948241284
          ],
          [
           0.0749900719458014,
           0.5682357647098965,
           0.270229571568817,
           0.3905894333810023,
           0.36319297992925664,
           1,
           -0.09470161087097857,
           0.03492391228895759,
           0.08184631412867462
          ],
          [
           -0.2077727472988889,
           -0.42789845237530677,
           -0.14202576041181936,
           -0.13158199065736295,
           -0.1324905677318435,
           -0.09470161087097859,
           1,
           -0.3512513729022162,
           -0.2565296317054673
          ],
          [
           -0.11064747453867202,
           0.24199158343500105,
           0.3694363396285936,
           0.18880871540234964,
           0.2185808711994204,
           0.03492391228895759,
           -0.35125137290221625,
           1,
           0.5642040593207791
          ],
          [
           0.04409002761403944,
           0.24364470253419881,
           0.38108713645622244,
           0.3002395389770408,
           0.38171877948241284,
           0.08184631412867463,
           -0.2565296317054673,
           0.5642040593207791,
           1
          ]
         ]
        }
       ],
       "layout": {
        "coloraxis": {
         "colorbar": {
          "title": {
           "text": "Correlação"
          }
         },
         "colorscale": [
          [
           0,
           "rgb(0, 0, 0)"
          ],
          [
           0.09090909090909091,
           "rgb(16, 16, 16)"
          ],
          [
           0.18181818181818182,
           "rgb(38, 38, 38)"
          ],
          [
           0.2727272727272727,
           "rgb(59, 59, 59)"
          ],
          [
           0.36363636363636365,
           "rgb(81, 80, 80)"
          ],
          [
           0.45454545454545453,
           "rgb(102, 101, 101)"
          ],
          [
           0.5454545454545454,
           "rgb(124, 123, 122)"
          ],
          [
           0.6363636363636364,
           "rgb(146, 146, 145)"
          ],
          [
           0.7272727272727273,
           "rgb(171, 171, 170)"
          ],
          [
           0.8181818181818182,
           "rgb(197, 197, 195)"
          ],
          [
           0.9090909090909091,
           "rgb(224, 224, 223)"
          ],
          [
           1,
           "rgb(254, 254, 253)"
          ]
         ]
        },
        "height": 1000,
        "margin": {
         "t": 60
        },
        "template": {
         "data": {
          "bar": [
           {
            "error_x": {
             "color": "#2a3f5f"
            },
            "error_y": {
             "color": "#2a3f5f"
            },
            "marker": {
             "line": {
              "color": "#E5ECF6",
              "width": 0.5
             },
             "pattern": {
              "fillmode": "overlay",
              "size": 10,
              "solidity": 0.2
             }
            },
            "type": "bar"
           }
          ],
          "barpolar": [
           {
            "marker": {
             "line": {
              "color": "#E5ECF6",
              "width": 0.5
             },
             "pattern": {
              "fillmode": "overlay",
              "size": 10,
              "solidity": 0.2
             }
            },
            "type": "barpolar"
           }
          ],
          "carpet": [
           {
            "aaxis": {
             "endlinecolor": "#2a3f5f",
             "gridcolor": "white",
             "linecolor": "white",
             "minorgridcolor": "white",
             "startlinecolor": "#2a3f5f"
            },
            "baxis": {
             "endlinecolor": "#2a3f5f",
             "gridcolor": "white",
             "linecolor": "white",
             "minorgridcolor": "white",
             "startlinecolor": "#2a3f5f"
            },
            "type": "carpet"
           }
          ],
          "choropleth": [
           {
            "colorbar": {
             "outlinewidth": 0,
             "ticks": ""
            },
            "type": "choropleth"
           }
          ],
          "contour": [
           {
            "colorbar": {
             "outlinewidth": 0,
             "ticks": ""
            },
            "colorscale": [
             [
              0,
              "#0d0887"
             ],
             [
              0.1111111111111111,
              "#46039f"
             ],
             [
              0.2222222222222222,
              "#7201a8"
             ],
             [
              0.3333333333333333,
              "#9c179e"
             ],
             [
              0.4444444444444444,
              "#bd3786"
             ],
             [
              0.5555555555555556,
              "#d8576b"
             ],
             [
              0.6666666666666666,
              "#ed7953"
             ],
             [
              0.7777777777777778,
              "#fb9f3a"
             ],
             [
              0.8888888888888888,
              "#fdca26"
             ],
             [
              1,
              "#f0f921"
             ]
            ],
            "type": "contour"
           }
          ],
          "contourcarpet": [
           {
            "colorbar": {
             "outlinewidth": 0,
             "ticks": ""
            },
            "type": "contourcarpet"
           }
          ],
          "heatmap": [
           {
            "colorbar": {
             "outlinewidth": 0,
             "ticks": ""
            },
            "colorscale": [
             [
              0,
              "#0d0887"
             ],
             [
              0.1111111111111111,
              "#46039f"
             ],
             [
              0.2222222222222222,
              "#7201a8"
             ],
             [
              0.3333333333333333,
              "#9c179e"
             ],
             [
              0.4444444444444444,
              "#bd3786"
             ],
             [
              0.5555555555555556,
              "#d8576b"
             ],
             [
              0.6666666666666666,
              "#ed7953"
             ],
             [
              0.7777777777777778,
              "#fb9f3a"
             ],
             [
              0.8888888888888888,
              "#fdca26"
             ],
             [
              1,
              "#f0f921"
             ]
            ],
            "type": "heatmap"
           }
          ],
          "heatmapgl": [
           {
            "colorbar": {
             "outlinewidth": 0,
             "ticks": ""
            },
            "colorscale": [
             [
              0,
              "#0d0887"
             ],
             [
              0.1111111111111111,
              "#46039f"
             ],
             [
              0.2222222222222222,
              "#7201a8"
             ],
             [
              0.3333333333333333,
              "#9c179e"
             ],
             [
              0.4444444444444444,
              "#bd3786"
             ],
             [
              0.5555555555555556,
              "#d8576b"
             ],
             [
              0.6666666666666666,
              "#ed7953"
             ],
             [
              0.7777777777777778,
              "#fb9f3a"
             ],
             [
              0.8888888888888888,
              "#fdca26"
             ],
             [
              1,
              "#f0f921"
             ]
            ],
            "type": "heatmapgl"
           }
          ],
          "histogram": [
           {
            "marker": {
             "pattern": {
              "fillmode": "overlay",
              "size": 10,
              "solidity": 0.2
             }
            },
            "type": "histogram"
           }
          ],
          "histogram2d": [
           {
            "colorbar": {
             "outlinewidth": 0,
             "ticks": ""
            },
            "colorscale": [
             [
              0,
              "#0d0887"
             ],
             [
              0.1111111111111111,
              "#46039f"
             ],
             [
              0.2222222222222222,
              "#7201a8"
             ],
             [
              0.3333333333333333,
              "#9c179e"
             ],
             [
              0.4444444444444444,
              "#bd3786"
             ],
             [
              0.5555555555555556,
              "#d8576b"
             ],
             [
              0.6666666666666666,
              "#ed7953"
             ],
             [
              0.7777777777777778,
              "#fb9f3a"
             ],
             [
              0.8888888888888888,
              "#fdca26"
             ],
             [
              1,
              "#f0f921"
             ]
            ],
            "type": "histogram2d"
           }
          ],
          "histogram2dcontour": [
           {
            "colorbar": {
             "outlinewidth": 0,
             "ticks": ""
            },
            "colorscale": [
             [
              0,
              "#0d0887"
             ],
             [
              0.1111111111111111,
              "#46039f"
             ],
             [
              0.2222222222222222,
              "#7201a8"
             ],
             [
              0.3333333333333333,
              "#9c179e"
             ],
             [
              0.4444444444444444,
              "#bd3786"
             ],
             [
              0.5555555555555556,
              "#d8576b"
             ],
             [
              0.6666666666666666,
              "#ed7953"
             ],
             [
              0.7777777777777778,
              "#fb9f3a"
             ],
             [
              0.8888888888888888,
              "#fdca26"
             ],
             [
              1,
              "#f0f921"
             ]
            ],
            "type": "histogram2dcontour"
           }
          ],
          "mesh3d": [
           {
            "colorbar": {
             "outlinewidth": 0,
             "ticks": ""
            },
            "type": "mesh3d"
           }
          ],
          "parcoords": [
           {
            "line": {
             "colorbar": {
              "outlinewidth": 0,
              "ticks": ""
             }
            },
            "type": "parcoords"
           }
          ],
          "pie": [
           {
            "automargin": true,
            "type": "pie"
           }
          ],
          "scatter": [
           {
            "fillpattern": {
             "fillmode": "overlay",
             "size": 10,
             "solidity": 0.2
            },
            "type": "scatter"
           }
          ],
          "scatter3d": [
           {
            "line": {
             "colorbar": {
              "outlinewidth": 0,
              "ticks": ""
             }
            },
            "marker": {
             "colorbar": {
              "outlinewidth": 0,
              "ticks": ""
             }
            },
            "type": "scatter3d"
           }
          ],
          "scattercarpet": [
           {
            "marker": {
             "colorbar": {
              "outlinewidth": 0,
              "ticks": ""
             }
            },
            "type": "scattercarpet"
           }
          ],
          "scattergeo": [
           {
            "marker": {
             "colorbar": {
              "outlinewidth": 0,
              "ticks": ""
             }
            },
            "type": "scattergeo"
           }
          ],
          "scattergl": [
           {
            "marker": {
             "colorbar": {
              "outlinewidth": 0,
              "ticks": ""
             }
            },
            "type": "scattergl"
           }
          ],
          "scattermapbox": [
           {
            "marker": {
             "colorbar": {
              "outlinewidth": 0,
              "ticks": ""
             }
            },
            "type": "scattermapbox"
           }
          ],
          "scatterpolar": [
           {
            "marker": {
             "colorbar": {
              "outlinewidth": 0,
              "ticks": ""
             }
            },
            "type": "scatterpolar"
           }
          ],
          "scatterpolargl": [
           {
            "marker": {
             "colorbar": {
              "outlinewidth": 0,
              "ticks": ""
             }
            },
            "type": "scatterpolargl"
           }
          ],
          "scatterternary": [
           {
            "marker": {
             "colorbar": {
              "outlinewidth": 0,
              "ticks": ""
             }
            },
            "type": "scatterternary"
           }
          ],
          "surface": [
           {
            "colorbar": {
             "outlinewidth": 0,
             "ticks": ""
            },
            "colorscale": [
             [
              0,
              "#0d0887"
             ],
             [
              0.1111111111111111,
              "#46039f"
             ],
             [
              0.2222222222222222,
              "#7201a8"
             ],
             [
              0.3333333333333333,
              "#9c179e"
             ],
             [
              0.4444444444444444,
              "#bd3786"
             ],
             [
              0.5555555555555556,
              "#d8576b"
             ],
             [
              0.6666666666666666,
              "#ed7953"
             ],
             [
              0.7777777777777778,
              "#fb9f3a"
             ],
             [
              0.8888888888888888,
              "#fdca26"
             ],
             [
              1,
              "#f0f921"
             ]
            ],
            "type": "surface"
           }
          ],
          "table": [
           {
            "cells": {
             "fill": {
              "color": "#EBF0F8"
             },
             "line": {
              "color": "white"
             }
            },
            "header": {
             "fill": {
              "color": "#C8D4E3"
             },
             "line": {
              "color": "white"
             }
            },
            "type": "table"
           }
          ]
         },
         "layout": {
          "annotationdefaults": {
           "arrowcolor": "#2a3f5f",
           "arrowhead": 0,
           "arrowwidth": 1
          },
          "autotypenumbers": "strict",
          "coloraxis": {
           "colorbar": {
            "outlinewidth": 0,
            "ticks": ""
           }
          },
          "colorscale": {
           "diverging": [
            [
             0,
             "#8e0152"
            ],
            [
             0.1,
             "#c51b7d"
            ],
            [
             0.2,
             "#de77ae"
            ],
            [
             0.3,
             "#f1b6da"
            ],
            [
             0.4,
             "#fde0ef"
            ],
            [
             0.5,
             "#f7f7f7"
            ],
            [
             0.6,
             "#e6f5d0"
            ],
            [
             0.7,
             "#b8e186"
            ],
            [
             0.8,
             "#7fbc41"
            ],
            [
             0.9,
             "#4d9221"
            ],
            [
             1,
             "#276419"
            ]
           ],
           "sequential": [
            [
             0,
             "#0d0887"
            ],
            [
             0.1111111111111111,
             "#46039f"
            ],
            [
             0.2222222222222222,
             "#7201a8"
            ],
            [
             0.3333333333333333,
             "#9c179e"
            ],
            [
             0.4444444444444444,
             "#bd3786"
            ],
            [
             0.5555555555555556,
             "#d8576b"
            ],
            [
             0.6666666666666666,
             "#ed7953"
            ],
            [
             0.7777777777777778,
             "#fb9f3a"
            ],
            [
             0.8888888888888888,
             "#fdca26"
            ],
            [
             1,
             "#f0f921"
            ]
           ],
           "sequentialminus": [
            [
             0,
             "#0d0887"
            ],
            [
             0.1111111111111111,
             "#46039f"
            ],
            [
             0.2222222222222222,
             "#7201a8"
            ],
            [
             0.3333333333333333,
             "#9c179e"
            ],
            [
             0.4444444444444444,
             "#bd3786"
            ],
            [
             0.5555555555555556,
             "#d8576b"
            ],
            [
             0.6666666666666666,
             "#ed7953"
            ],
            [
             0.7777777777777778,
             "#fb9f3a"
            ],
            [
             0.8888888888888888,
             "#fdca26"
            ],
            [
             1,
             "#f0f921"
            ]
           ]
          },
          "colorway": [
           "#636efa",
           "#EF553B",
           "#00cc96",
           "#ab63fa",
           "#FFA15A",
           "#19d3f3",
           "#FF6692",
           "#B6E880",
           "#FF97FF",
           "#FECB52"
          ],
          "font": {
           "color": "#2a3f5f"
          },
          "geo": {
           "bgcolor": "white",
           "lakecolor": "white",
           "landcolor": "#E5ECF6",
           "showlakes": true,
           "showland": true,
           "subunitcolor": "white"
          },
          "hoverlabel": {
           "align": "left"
          },
          "hovermode": "closest",
          "mapbox": {
           "style": "light"
          },
          "paper_bgcolor": "white",
          "plot_bgcolor": "#E5ECF6",
          "polar": {
           "angularaxis": {
            "gridcolor": "white",
            "linecolor": "white",
            "ticks": ""
           },
           "bgcolor": "#E5ECF6",
           "radialaxis": {
            "gridcolor": "white",
            "linecolor": "white",
            "ticks": ""
           }
          },
          "scene": {
           "xaxis": {
            "backgroundcolor": "#E5ECF6",
            "gridcolor": "white",
            "gridwidth": 2,
            "linecolor": "white",
            "showbackground": true,
            "ticks": "",
            "zerolinecolor": "white"
           },
           "yaxis": {
            "backgroundcolor": "#E5ECF6",
            "gridcolor": "white",
            "gridwidth": 2,
            "linecolor": "white",
            "showbackground": true,
            "ticks": "",
            "zerolinecolor": "white"
           },
           "zaxis": {
            "backgroundcolor": "#E5ECF6",
            "gridcolor": "white",
            "gridwidth": 2,
            "linecolor": "white",
            "showbackground": true,
            "ticks": "",
            "zerolinecolor": "white"
           }
          },
          "shapedefaults": {
           "line": {
            "color": "#2a3f5f"
           }
          },
          "ternary": {
           "aaxis": {
            "gridcolor": "white",
            "linecolor": "white",
            "ticks": ""
           },
           "baxis": {
            "gridcolor": "white",
            "linecolor": "white",
            "ticks": ""
           },
           "bgcolor": "#E5ECF6",
           "caxis": {
            "gridcolor": "white",
            "linecolor": "white",
            "ticks": ""
           }
          },
          "title": {
           "x": 0.05
          },
          "xaxis": {
           "automargin": true,
           "gridcolor": "white",
           "linecolor": "white",
           "ticks": "",
           "title": {
            "standoff": 15
           },
           "zerolinecolor": "white",
           "zerolinewidth": 2
          },
          "yaxis": {
           "automargin": true,
           "gridcolor": "white",
           "linecolor": "white",
           "ticks": "",
           "title": {
            "standoff": 15
           },
           "zerolinecolor": "white",
           "zerolinewidth": 2
          }
         }
        },
        "title": {
         "text": "Matriz de Correlação entre TODAS as Features (Treino)"
        },
        "width": 1000,
        "xaxis": {
         "anchor": "y",
         "constrain": "domain",
         "domain": [
          0,
          1
         ],
         "scaleanchor": "y",
         "title": {
          "text": "Features"
         }
        },
        "yaxis": {
         "anchor": "x",
         "autorange": "reversed",
         "constrain": "domain",
         "domain": [
          0,
          1
         ],
         "title": {
          "text": "Features"
         }
        }
       }
      }
     },
     "metadata": {},
     "output_type": "display_data"
    }
   ],
   "source": [
    "import pandas as pd\n",
    "import numpy as np\n",
    "from scipy.stats import kruskal\n",
    "\n",
    "#--------------------------feature selection --------------------------\n",
    "#Kruskal-Wallis\n",
    "kruskal_selected_features = []\n",
    "p_values = {}\n",
    "classes = np.unique(y_train)\n",
    "for feature in X_train.columns:\n",
    "    groups = []\n",
    "    for have_c in classes:\n",
    "        groups.append(X_train.loc[y_train == have_c, feature]) #faz uma lista dependendo do valor do classification\n",
    "\n",
    "    stat, p = kruskal(*groups) #stat fica com o valor H e p fica com o p-value\n",
    "    p_values[feature] = p\n",
    "    \n",
    "    # Selecionar features com diferença estatisticamente significativa  (5% significance level)\n",
    "    if p < 0.05:\n",
    "        kruskal_selected_features.append(feature)\n",
    "        print(f\"Feature: {feature}, Kruskal-Wallis H-statistic: {stat}, p-value: {p}\")\n",
    "\n",
    "\n",
    "print(\"kruskal_selected_features:\", kruskal_selected_features)\n",
    "\n",
    "\n",
    "# Reduzir datasets apenas às features selecionadas pelo Kruskal-Wallis\n",
    "X_krus_train_sel = X_train[kruskal_selected_features]\n",
    "X_krus_val_sel = X_val[kruskal_selected_features]\n",
    "X_krus_test_sel = X_test[kruskal_selected_features]\n",
    "\n",
    "\n",
    "\n",
    "\n",
    "# ROC-AUC\n",
    "import plotly.graph_objects as go\n",
    "from sklearn.metrics import roc_curve, auc\n",
    "\n",
    "# --- prepara dados (y_train e X_train já definidos) ---\n",
    "classes = np.unique(y_train)\n",
    "pos_label = classes[-1]   # define a classe positiva como a de maior valor (ex: 1 ou 2)\n",
    "\n",
    "fnames = np.array(X_train.columns)\n",
    "roc_auc = np.zeros(fnames.shape)\n",
    "\n",
    "# --- calcular curvas ROC e AUC para cada feature ---\n",
    "i = 0\n",
    "for f in fnames:\n",
    "    x_feat = X_train[f].to_numpy().astype(float)\n",
    "    y_true = y_train.to_numpy()\n",
    "\n",
    "    # curva ROC + AUC\n",
    "    fpr, tpr, _ = roc_curve(y_true, x_feat, pos_label=pos_label)\n",
    "    a = auc(fpr, tpr)\n",
    "    if a < 0.5:\n",
    "        a = 1 - a  # inverter direção se necessário\n",
    "    roc_auc[i] = a\n",
    "\n",
    "    # # --- plot -> utilizar este codigo para relatorio  ---\n",
    "    # figR = go.Figure()\n",
    "    # figR.add_scatter(x=fpr, y=tpr, mode='lines+markers')\n",
    "    # figR.update_layout(autosize=False, width=700, height=700, title=dict(text=f))\n",
    "    # figR.update_xaxes(title_text=\"1 - Specificidade (FPR)\", range=[-0.01, 1.01])\n",
    "    # figR.update_yaxes(title_text=\"Sensibilidade (TPR)\", range=[-0.01, 1.01])\n",
    "    # figR.add_annotation(x=0.5, y=0.5, text=f\"AUC: {a:.3f}\", showarrow=False, yshift=10)\n",
    "    # figR.show()\n",
    "    i += 1\n",
    "\n",
    "\n",
    "\n",
    "# --- selecionar features com AUC acima do limiar (ex: 0.60) ---\n",
    "roc_auc_selected_features = fnames[roc_auc > 0.60]\n",
    "print(\"roc_auc_selected_features:\", roc_auc_selected_features)\n",
    "\n",
    "# --- reduzir os datasets ---\n",
    "X_auc_train_sel = X_train[roc_auc_selected_features]\n",
    "X_auc_val_sel   = X_val[roc_auc_selected_features]\n",
    "X_auc_test_sel  = X_test[roc_auc_selected_features]\n",
    "\n",
    "\n",
    "# Matriz de Correlação entre todas as features (treino)\n",
    "import plotly.express as px\n",
    "\n",
    "X = X_train[kruskal_selected_features].to_numpy().T\n",
    "corrMat = np.corrcoef(X)\n",
    "eatures = X_train[kruskal_selected_features].columns.tolist()\n",
    "fig = px.imshow(\n",
    "    corrMat,\n",
    "    text_auto=True,\n",
    "    labels=dict(x=\"Features\", y=\"Features\", color=\"Correlação\"),\n",
    "    x=eatures,\n",
    "    y=eatures,\n",
    "    width=1000,\n",
    "    height=1000,\n",
    "    color_continuous_scale=px.colors.sequential.gray\n",
    ")\n",
    "fig.update_layout(title=\"Matriz de Correlação entre TODAS as Features (Treino)\")\n",
    "fig.show()\n"
   ]
  }
 ],
 "metadata": {
  "kernelspec": {
   "display_name": "base",
   "language": "python",
   "name": "python3"
  },
  "language_info": {
   "codemirror_mode": {
    "name": "ipython",
    "version": 3
   },
   "file_extension": ".py",
   "mimetype": "text/x-python",
   "name": "python",
   "nbconvert_exporter": "python",
   "pygments_lexer": "ipython3",
   "version": "3.9.12"
  }
 },
 "nbformat": 4,
 "nbformat_minor": 5
}
